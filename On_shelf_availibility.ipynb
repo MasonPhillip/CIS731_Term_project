{
  "nbformat": 4,
  "nbformat_minor": 0,
  "metadata": {
    "colab": {
      "provenance": []
    },
    "kernelspec": {
      "name": "python3",
      "display_name": "Python 3"
    },
    "language_info": {
      "name": "python"
    }
  },
  "cells": [
    {
      "cell_type": "markdown",
      "source": [
        "# Imports and Session Creation"
      ],
      "metadata": {
        "id": "AtMNHnIXkxev"
      }
    },
    {
      "cell_type": "code",
      "source": [
        "from pyspark.sql.types import *\n",
        "import pyspark.sql.functions as f\n",
        "from pyspark.sql import SparkSession\n",
        "\n",
        "import pandas as pd"
      ],
      "metadata": {
        "id": "S4AD3QFtkxuZ"
      },
      "execution_count": 1,
      "outputs": []
    },
    {
      "cell_type": "markdown",
      "source": [
        "Create Spark Session"
      ],
      "metadata": {
        "id": "GHqr8ikfnV39"
      }
    },
    {
      "cell_type": "code",
      "source": [
        "spark = SparkSession.builder.appName(\"OSA\").getOrCreate()"
      ],
      "metadata": {
        "id": "zIjNOiCNnWFS"
      },
      "execution_count": 2,
      "outputs": []
    },
    {
      "cell_type": "markdown",
      "source": [
        "# Schema Definitions"
      ],
      "metadata": {
        "id": "pgV9wPYKoJAy"
      }
    },
    {
      "cell_type": "markdown",
      "source": [
        "Inventory Schema"
      ],
      "metadata": {
        "id": "c_3ZgLfKoa9A"
      }
    },
    {
      "cell_type": "code",
      "source": [
        "inventory_schema = StructType([\n",
        "  StructField('date',DateType()),\n",
        "  StructField('store_id',IntegerType()),\n",
        "  StructField('sku',IntegerType()),\n",
        "  StructField('product_category',StringType()),\n",
        "  StructField('total_sales_units',IntegerType()),\n",
        "  StructField('on_hand_inventory_units',IntegerType()),\n",
        "  StructField('replenishment_units',IntegerType()),\n",
        "  StructField('inventory_pipeline',IntegerType()),\n",
        "  StructField('units_in_transit',IntegerType()),\n",
        "  StructField('units_in_dc',IntegerType()),\n",
        "  StructField('units_on_order',IntegerType()),\n",
        "  StructField('units_under_promotion',IntegerType()),\n",
        "  StructField('shelf_capacity',IntegerType())\n",
        "  ])"
      ],
      "metadata": {
        "id": "0h9i9hxkoG3x"
      },
      "execution_count": 3,
      "outputs": []
    },
    {
      "cell_type": "markdown",
      "source": [
        "Vendor Schema"
      ],
      "metadata": {
        "id": "eTrPSRBCoeJq"
      }
    },
    {
      "cell_type": "code",
      "source": [
        "vendor_schema = StructType([\n",
        "  StructField('key',IntegerType()),\n",
        "  StructField('vendor_id',IntegerType()),\n",
        "  StructField('sub_vendor_id',IntegerType()),\n",
        "  StructField('store_id',IntegerType()),\n",
        "  StructField('sku',IntegerType()),\n",
        "  StructField('lead_time_in_dc',IntegerType()),\n",
        "  StructField('lead_time_in_transit',IntegerType()),\n",
        "  StructField('lead_time_on_order',IntegerType()),\n",
        "])"
      ],
      "metadata": {
        "id": "U6vAYLK3od7n"
      },
      "execution_count": 7,
      "outputs": []
    },
    {
      "cell_type": "markdown",
      "source": [
        "Data from:\n",
        "https://raw.githubusercontent.com/tredenceofficial/OSA-Data/main/osa_raw_data.csv\n",
        "and\n",
        "https://raw.githubusercontent.com/tredenceofficial/OSA-Data/main/vendor_leadtime_info.csv"
      ],
      "metadata": {
        "id": "hO1rLZSIk7IS"
      }
    },
    {
      "cell_type": "code",
      "source": [
        "inventory_data = spark.read.csv('/content/osa_raw_data.csv', header=True, schema=inventory_schema, dateFormat=\"yyyyMMdd\")\n",
        "vendor_data = spark.read.csv('/content/vendor_lead_time.csv', header=True, schema=vendor_schema)\n",
        "\n",
        "inventory_data.show()\n",
        "vendor_data.show()"
      ],
      "metadata": {
        "colab": {
          "base_uri": "https://localhost:8080/"
        },
        "id": "UUX26qeRoIuX",
        "outputId": "d241135e-91f5-4c47-cb5b-fd852a00623d"
      },
      "execution_count": 8,
      "outputs": [
        {
          "output_type": "stream",
          "name": "stdout",
          "text": [
            "+----------+--------+---+----------------+-----------------+-----------------------+-------------------+------------------+----------------+-----------+--------------+---------------------+--------------+\n",
            "|      date|store_id|sku|product_category|total_sales_units|on_hand_inventory_units|replenishment_units|inventory_pipeline|units_in_transit|units_in_dc|units_on_order|units_under_promotion|shelf_capacity|\n",
            "+----------+--------+---+----------------+-----------------+-----------------------+-------------------+------------------+----------------+-----------+--------------+---------------------+--------------+\n",
            "|2019-01-02|      63| 57|     Category 04|                0|                      8|                  0|                16|               0|          0|             8|                    0|            32|\n",
            "|2019-01-04|      63| 57|     Category 04|                0|                      7|                  0|                14|               0|          8|             0|                    0|            32|\n",
            "|2019-01-05|      63| 57|     Category 04|                3|                      5|                  8|                12|               8|          0|             0|                    0|            32|\n",
            "|2019-01-06|      63| 57|     Category 04|                2|                     11|                  0|                11|               0|          0|             0|                    0|            32|\n",
            "|2019-01-09|      63| 57|     Category 04|                3|                      7|                  0|                14|               0|          0|             8|                    0|            32|\n",
            "|2019-01-10|      63| 57|     Category 04|                2|                      5|                  0|                13|               0|          0|             8|                    0|            32|\n",
            "|2019-01-13|      63| 57|     Category 04|                0|                     13|                  0|                21|               0|          8|             0|                    0|            32|\n",
            "|2019-01-15|      63| 57|     Category 04|                0|                     13|                  0|                13|               0|          0|             0|                    0|            32|\n",
            "|2019-01-16|      63| 57|     Category 04|                0|                     14|                  0|                13|               0|          0|             0|                    0|            32|\n",
            "|2019-01-20|      63| 57|     Category 04|                2|                      6|                  0|                14|               0|          0|             8|                    0|            32|\n",
            "|2019-01-24|      63| 57|     Category 04|                0|                     11|                  0|                10|               0|          0|             0|                    0|            32|\n",
            "|2019-01-25|      63| 57|     Category 04|                3|                      9|                  0|                 8|               0|          0|             0|                    0|            32|\n",
            "|2019-01-30|      63| 57|     Category 04|                4|                      8|                  0|                16|               0|          0|             8|                    0|            32|\n",
            "|2019-01-31|      63| 57|     Category 04|                0|                      9|                  0|                16|               0|          0|             8|                    0|            32|\n",
            "|2019-02-01|      63| 57|     Category 04|                2|                      7|                  0|                15|               0|          0|             8|                    0|            32|\n",
            "|2019-02-02|      63| 57|     Category 04|                0|                      8|                  0|                15|               0|          0|             8|                    0|            32|\n",
            "|2019-02-03|      63| 57|     Category 04|                3|                      5|                  8|                13|               8|          0|             0|                    0|            32|\n",
            "|2019-02-08|      63| 57|     Category 04|                0|                     19|                  8|                19|               0|          0|             0|                    0|            32|\n",
            "|2019-02-09|      63| 57|     Category 04|                5|                     15|                  0|                15|               0|          0|             0|                    0|            32|\n",
            "|2019-02-11|      63| 57|     Category 04|                0|                     13|                  0|                13|               0|          0|             0|                    0|            32|\n",
            "+----------+--------+---+----------------+-----------------+-----------------------+-------------------+------------------+----------------+-----------+--------------+---------------------+--------------+\n",
            "only showing top 20 rows\n",
            "\n",
            "+---+---------+-------------+--------+---+---------------+--------------------+------------------+\n",
            "|key|vendor_id|sub_vendor_id|store_id|sku|lead_time_in_dc|lead_time_in_transit|lead_time_on_order|\n",
            "+---+---------+-------------+--------+---+---------------+--------------------+------------------+\n",
            "|  1|        1|         1001|    1763|  1|              4|                   3|                 7|\n",
            "|  2|        1|         1001|    1763|  2|              2|                   1|                 7|\n",
            "|  3|        1|         1002|    1843|  2|              2|                   1|                 7|\n",
            "|  4|        1|         1001|    1763|  3|              4|                   3|                 7|\n",
            "|  5|        2|         2016|     486|  6|              2|                   1|                 8|\n",
            "|  6|        2|         2073|    1587|  7|              3|                   2|                 9|\n",
            "|  7|        2|         2087|    1556|  8|              4|                   3|                 7|\n",
            "|  8|        8|         8010|    1283| 39|              3|                   2|                 6|\n",
            "|  9|       10|        10001|    1763| 46|              2|                   1|                 5|\n",
            "| 10|       11|        11001|     334| 52|              4|                   3|                 8|\n",
            "| 11|       12|        12006|      63| 57|              4|                   3|                10|\n",
            "| 12|       13|        13091|      98| 64|              3|                   2|                 9|\n",
            "| 13|       13|       130153|     171| 64|              3|                   2|                 7|\n",
            "| 14|       13|       130160|     178| 64|              2|                   1|                 6|\n",
            "| 15|       13|       130185|     206| 64|              4|                   3|                 8|\n",
            "| 16|       13|       130188|     209| 64|              2|                   1|                 5|\n",
            "| 17|       13|       130208|     232| 64|              2|                   1|                 5|\n",
            "| 18|       13|       130223|     249| 64|              4|                   3|                 9|\n",
            "| 19|       13|       130244|     274| 64|              4|                   3|                10|\n",
            "| 20|       13|       130297|     337| 64|              3|                   2|                 8|\n",
            "+---+---------+-------------+--------+---+---------------+--------------------+------------------+\n",
            "only showing top 20 rows\n",
            "\n"
          ]
        }
      ]
    },
    {
      "cell_type": "markdown",
      "source": [
        "# Handle Missing Records\n",
        "Since not all products have a sale every day, we have to fill in the missing records with a 0 sale say"
      ],
      "metadata": {
        "id": "ZjR4AG_yqULD"
      }
    },
    {
      "cell_type": "code",
      "source": [
        "from datetime import date\n",
        "end_date = inventory_data.agg(f.max('date')).collect()[0][0]\n",
        "start_date = inventory_data.agg(f.min('date')).collect()[0][0]\n",
        "date_range_df = spark.createDataFrame([(start_date, end_date)], ['start_date', 'end_date'])\n",
        "\n",
        "date_range_df = date_range_df.withColumn(\n",
        "    \"date_seq\",\n",
        "    f.explode(f.sequence(f.to_date(date_range_df.start_date), f.to_date(date_range_df.end_date)))\n",
        ")\n",
        "\n",
        "date_list = [row.date_seq for row in date_range_df.select(\"date_seq\").collect()]\n",
        "\n",
        "print(f\"The list of dates is: {date_list}\")\n"
      ],
      "metadata": {
        "colab": {
          "base_uri": "https://localhost:8080/"
        },
        "id": "UjK2yZDpquHU",
        "outputId": "e142fd35-5964-4a98-eea2-9bb3ac701bd6"
      },
      "execution_count": 16,
      "outputs": [
        {
          "output_type": "stream",
          "name": "stdout",
          "text": [
            "The list of dates is: [datetime.date(2019, 1, 1), datetime.date(2019, 1, 2), datetime.date(2019, 1, 3), datetime.date(2019, 1, 4), datetime.date(2019, 1, 5), datetime.date(2019, 1, 6), datetime.date(2019, 1, 7), datetime.date(2019, 1, 8), datetime.date(2019, 1, 9), datetime.date(2019, 1, 10), datetime.date(2019, 1, 11), datetime.date(2019, 1, 12), datetime.date(2019, 1, 13), datetime.date(2019, 1, 14), datetime.date(2019, 1, 15), datetime.date(2019, 1, 16), datetime.date(2019, 1, 17), datetime.date(2019, 1, 18), datetime.date(2019, 1, 19), datetime.date(2019, 1, 20), datetime.date(2019, 1, 21), datetime.date(2019, 1, 22), datetime.date(2019, 1, 23), datetime.date(2019, 1, 24), datetime.date(2019, 1, 25), datetime.date(2019, 1, 26), datetime.date(2019, 1, 27), datetime.date(2019, 1, 28), datetime.date(2019, 1, 29), datetime.date(2019, 1, 30), datetime.date(2019, 1, 31), datetime.date(2019, 2, 1), datetime.date(2019, 2, 2), datetime.date(2019, 2, 3), datetime.date(2019, 2, 4), datetime.date(2019, 2, 5), datetime.date(2019, 2, 6), datetime.date(2019, 2, 7), datetime.date(2019, 2, 8), datetime.date(2019, 2, 9), datetime.date(2019, 2, 10), datetime.date(2019, 2, 11), datetime.date(2019, 2, 12), datetime.date(2019, 2, 13), datetime.date(2019, 2, 14), datetime.date(2019, 2, 15), datetime.date(2019, 2, 16), datetime.date(2019, 2, 17), datetime.date(2019, 2, 18), datetime.date(2019, 2, 19), datetime.date(2019, 2, 20), datetime.date(2019, 2, 21), datetime.date(2019, 2, 22), datetime.date(2019, 2, 23), datetime.date(2019, 2, 24), datetime.date(2019, 2, 25), datetime.date(2019, 2, 26), datetime.date(2019, 2, 27), datetime.date(2019, 2, 28), datetime.date(2019, 3, 1), datetime.date(2019, 3, 2), datetime.date(2019, 3, 3), datetime.date(2019, 3, 4), datetime.date(2019, 3, 5), datetime.date(2019, 3, 6), datetime.date(2019, 3, 7), datetime.date(2019, 3, 8), datetime.date(2019, 3, 9), datetime.date(2019, 3, 10), datetime.date(2019, 3, 11), datetime.date(2019, 3, 12), datetime.date(2019, 3, 13), datetime.date(2019, 3, 14), datetime.date(2019, 3, 15), datetime.date(2019, 3, 16), datetime.date(2019, 3, 17), datetime.date(2019, 3, 18), datetime.date(2019, 3, 19), datetime.date(2019, 3, 20), datetime.date(2019, 3, 21), datetime.date(2019, 3, 22), datetime.date(2019, 3, 23), datetime.date(2019, 3, 24), datetime.date(2019, 3, 25), datetime.date(2019, 3, 26), datetime.date(2019, 3, 27), datetime.date(2019, 3, 28), datetime.date(2019, 3, 29), datetime.date(2019, 3, 30), datetime.date(2019, 3, 31), datetime.date(2019, 4, 1), datetime.date(2019, 4, 2), datetime.date(2019, 4, 3), datetime.date(2019, 4, 4), datetime.date(2019, 4, 5), datetime.date(2019, 4, 6), datetime.date(2019, 4, 7), datetime.date(2019, 4, 8), datetime.date(2019, 4, 9), datetime.date(2019, 4, 10), datetime.date(2019, 4, 11), datetime.date(2019, 4, 12), datetime.date(2019, 4, 13), datetime.date(2019, 4, 14), datetime.date(2019, 4, 15), datetime.date(2019, 4, 16), datetime.date(2019, 4, 17), datetime.date(2019, 4, 18), datetime.date(2019, 4, 19), datetime.date(2019, 4, 20), datetime.date(2019, 4, 21), datetime.date(2019, 4, 22), datetime.date(2019, 4, 23), datetime.date(2019, 4, 24), datetime.date(2019, 4, 25), datetime.date(2019, 4, 26), datetime.date(2019, 4, 27), datetime.date(2019, 4, 28), datetime.date(2019, 4, 29), datetime.date(2019, 4, 30), datetime.date(2019, 5, 1), datetime.date(2019, 5, 2), datetime.date(2019, 5, 3), datetime.date(2019, 5, 4), datetime.date(2019, 5, 5), datetime.date(2019, 5, 6), datetime.date(2019, 5, 7), datetime.date(2019, 5, 8), datetime.date(2019, 5, 9), datetime.date(2019, 5, 10), datetime.date(2019, 5, 11), datetime.date(2019, 5, 12), datetime.date(2019, 5, 13), datetime.date(2019, 5, 14), datetime.date(2019, 5, 15), datetime.date(2019, 5, 16), datetime.date(2019, 5, 17), datetime.date(2019, 5, 18), datetime.date(2019, 5, 19), datetime.date(2019, 5, 20), datetime.date(2019, 5, 21), datetime.date(2019, 5, 22), datetime.date(2019, 5, 23), datetime.date(2019, 5, 24), datetime.date(2019, 5, 25), datetime.date(2019, 5, 26), datetime.date(2019, 5, 27), datetime.date(2019, 5, 28), datetime.date(2019, 5, 29), datetime.date(2019, 5, 30), datetime.date(2019, 5, 31), datetime.date(2019, 6, 1), datetime.date(2019, 6, 2), datetime.date(2019, 6, 3), datetime.date(2019, 6, 4), datetime.date(2019, 6, 5), datetime.date(2019, 6, 6), datetime.date(2019, 6, 7), datetime.date(2019, 6, 8), datetime.date(2019, 6, 9), datetime.date(2019, 6, 10), datetime.date(2019, 6, 11), datetime.date(2019, 6, 12), datetime.date(2019, 6, 13), datetime.date(2019, 6, 14), datetime.date(2019, 6, 15), datetime.date(2019, 6, 16), datetime.date(2019, 6, 17), datetime.date(2019, 6, 18), datetime.date(2019, 6, 19), datetime.date(2019, 6, 20), datetime.date(2019, 6, 21), datetime.date(2019, 6, 22), datetime.date(2019, 6, 23), datetime.date(2019, 6, 24), datetime.date(2019, 6, 25), datetime.date(2019, 6, 26), datetime.date(2019, 6, 27), datetime.date(2019, 6, 28), datetime.date(2019, 6, 29), datetime.date(2019, 6, 30), datetime.date(2019, 7, 1), datetime.date(2019, 7, 2), datetime.date(2019, 7, 3), datetime.date(2019, 7, 4), datetime.date(2019, 7, 5), datetime.date(2019, 7, 6), datetime.date(2019, 7, 7), datetime.date(2019, 7, 8), datetime.date(2019, 7, 9), datetime.date(2019, 7, 10), datetime.date(2019, 7, 11), datetime.date(2019, 7, 12), datetime.date(2019, 7, 13), datetime.date(2019, 7, 14), datetime.date(2019, 7, 15), datetime.date(2019, 7, 16), datetime.date(2019, 7, 17), datetime.date(2019, 7, 18), datetime.date(2019, 7, 19), datetime.date(2019, 7, 20), datetime.date(2019, 7, 21), datetime.date(2019, 7, 22), datetime.date(2019, 7, 23), datetime.date(2019, 7, 24), datetime.date(2019, 7, 25), datetime.date(2019, 7, 26), datetime.date(2019, 7, 27), datetime.date(2019, 7, 28), datetime.date(2019, 7, 29), datetime.date(2019, 7, 30), datetime.date(2019, 7, 31), datetime.date(2019, 8, 1), datetime.date(2019, 8, 2), datetime.date(2019, 8, 3), datetime.date(2019, 8, 4), datetime.date(2019, 8, 5), datetime.date(2019, 8, 6), datetime.date(2019, 8, 7), datetime.date(2019, 8, 8), datetime.date(2019, 8, 9), datetime.date(2019, 8, 10), datetime.date(2019, 8, 11), datetime.date(2019, 8, 12), datetime.date(2019, 8, 13), datetime.date(2019, 8, 14), datetime.date(2019, 8, 15), datetime.date(2019, 8, 16), datetime.date(2019, 8, 17), datetime.date(2019, 8, 18), datetime.date(2019, 8, 19), datetime.date(2019, 8, 20), datetime.date(2019, 8, 21), datetime.date(2019, 8, 22), datetime.date(2019, 8, 23), datetime.date(2019, 8, 24), datetime.date(2019, 8, 25), datetime.date(2019, 8, 26), datetime.date(2019, 8, 27), datetime.date(2019, 8, 28), datetime.date(2019, 8, 29), datetime.date(2019, 8, 30), datetime.date(2019, 8, 31), datetime.date(2019, 9, 1), datetime.date(2019, 9, 2), datetime.date(2019, 9, 3), datetime.date(2019, 9, 4), datetime.date(2019, 9, 5), datetime.date(2019, 9, 6), datetime.date(2019, 9, 7), datetime.date(2019, 9, 8), datetime.date(2019, 9, 9), datetime.date(2019, 9, 10), datetime.date(2019, 9, 11), datetime.date(2019, 9, 12), datetime.date(2019, 9, 13), datetime.date(2019, 9, 14), datetime.date(2019, 9, 15), datetime.date(2019, 9, 16), datetime.date(2019, 9, 17), datetime.date(2019, 9, 18), datetime.date(2019, 9, 19), datetime.date(2019, 9, 20), datetime.date(2019, 9, 21), datetime.date(2019, 9, 22), datetime.date(2019, 9, 23), datetime.date(2019, 9, 24), datetime.date(2019, 9, 25), datetime.date(2019, 9, 26), datetime.date(2019, 9, 27), datetime.date(2019, 9, 28), datetime.date(2019, 9, 29), datetime.date(2019, 9, 30), datetime.date(2019, 10, 1), datetime.date(2019, 10, 2), datetime.date(2019, 10, 3), datetime.date(2019, 10, 4), datetime.date(2019, 10, 5), datetime.date(2019, 10, 6), datetime.date(2019, 10, 7), datetime.date(2019, 10, 8), datetime.date(2019, 10, 9), datetime.date(2019, 10, 10), datetime.date(2019, 10, 11), datetime.date(2019, 10, 12), datetime.date(2019, 10, 13), datetime.date(2019, 10, 14), datetime.date(2019, 10, 15), datetime.date(2019, 10, 16), datetime.date(2019, 10, 17), datetime.date(2019, 10, 18), datetime.date(2019, 10, 19), datetime.date(2019, 10, 20), datetime.date(2019, 10, 21), datetime.date(2019, 10, 22), datetime.date(2019, 10, 23), datetime.date(2019, 10, 24), datetime.date(2019, 10, 25), datetime.date(2019, 10, 26), datetime.date(2019, 10, 27), datetime.date(2019, 10, 28), datetime.date(2019, 10, 29), datetime.date(2019, 10, 30), datetime.date(2019, 10, 31), datetime.date(2019, 11, 1), datetime.date(2019, 11, 2), datetime.date(2019, 11, 3), datetime.date(2019, 11, 4), datetime.date(2019, 11, 5), datetime.date(2019, 11, 6), datetime.date(2019, 11, 7), datetime.date(2019, 11, 8), datetime.date(2019, 11, 9), datetime.date(2019, 11, 10), datetime.date(2019, 11, 11), datetime.date(2019, 11, 12), datetime.date(2019, 11, 13), datetime.date(2019, 11, 14), datetime.date(2019, 11, 15), datetime.date(2019, 11, 16), datetime.date(2019, 11, 17), datetime.date(2019, 11, 18), datetime.date(2019, 11, 19), datetime.date(2019, 11, 20), datetime.date(2019, 11, 21), datetime.date(2019, 11, 22), datetime.date(2019, 11, 23), datetime.date(2019, 11, 24), datetime.date(2019, 11, 25), datetime.date(2019, 11, 26), datetime.date(2019, 11, 27), datetime.date(2019, 11, 28), datetime.date(2019, 11, 29), datetime.date(2019, 11, 30), datetime.date(2019, 12, 1), datetime.date(2019, 12, 2), datetime.date(2019, 12, 3), datetime.date(2019, 12, 4), datetime.date(2019, 12, 5), datetime.date(2019, 12, 6), datetime.date(2019, 12, 7), datetime.date(2019, 12, 8), datetime.date(2019, 12, 9), datetime.date(2019, 12, 10), datetime.date(2019, 12, 11), datetime.date(2019, 12, 12), datetime.date(2019, 12, 13), datetime.date(2019, 12, 14), datetime.date(2019, 12, 15), datetime.date(2019, 12, 16), datetime.date(2019, 12, 17), datetime.date(2019, 12, 18), datetime.date(2019, 12, 19), datetime.date(2019, 12, 20), datetime.date(2019, 12, 21), datetime.date(2019, 12, 22), datetime.date(2019, 12, 23), datetime.date(2019, 12, 24), datetime.date(2019, 12, 25), datetime.date(2019, 12, 26), datetime.date(2019, 12, 27), datetime.date(2019, 12, 28), datetime.date(2019, 12, 29), datetime.date(2019, 12, 30), datetime.date(2019, 12, 31), datetime.date(2020, 1, 1), datetime.date(2020, 1, 2), datetime.date(2020, 1, 3), datetime.date(2020, 1, 4), datetime.date(2020, 1, 5), datetime.date(2020, 1, 6), datetime.date(2020, 1, 7), datetime.date(2020, 1, 8), datetime.date(2020, 1, 9), datetime.date(2020, 1, 10), datetime.date(2020, 1, 11), datetime.date(2020, 1, 12), datetime.date(2020, 1, 13), datetime.date(2020, 1, 14), datetime.date(2020, 1, 15), datetime.date(2020, 1, 16), datetime.date(2020, 1, 17), datetime.date(2020, 1, 18), datetime.date(2020, 1, 19), datetime.date(2020, 1, 20), datetime.date(2020, 1, 21), datetime.date(2020, 1, 22), datetime.date(2020, 1, 23), datetime.date(2020, 1, 24), datetime.date(2020, 1, 25), datetime.date(2020, 1, 26), datetime.date(2020, 1, 27), datetime.date(2020, 1, 28), datetime.date(2020, 1, 29), datetime.date(2020, 1, 30), datetime.date(2020, 1, 31), datetime.date(2020, 2, 1), datetime.date(2020, 2, 2), datetime.date(2020, 2, 3), datetime.date(2020, 2, 4), datetime.date(2020, 2, 5), datetime.date(2020, 2, 6), datetime.date(2020, 2, 7), datetime.date(2020, 2, 8), datetime.date(2020, 2, 9), datetime.date(2020, 2, 10), datetime.date(2020, 2, 11), datetime.date(2020, 2, 12), datetime.date(2020, 2, 13), datetime.date(2020, 2, 14), datetime.date(2020, 2, 15), datetime.date(2020, 2, 16), datetime.date(2020, 2, 17), datetime.date(2020, 2, 18), datetime.date(2020, 2, 19), datetime.date(2020, 2, 20), datetime.date(2020, 2, 21), datetime.date(2020, 2, 22), datetime.date(2020, 2, 23), datetime.date(2020, 2, 24), datetime.date(2020, 2, 25), datetime.date(2020, 2, 26), datetime.date(2020, 2, 27), datetime.date(2020, 2, 28), datetime.date(2020, 2, 29), datetime.date(2020, 3, 1), datetime.date(2020, 3, 2), datetime.date(2020, 3, 3), datetime.date(2020, 3, 4), datetime.date(2020, 3, 5), datetime.date(2020, 3, 6), datetime.date(2020, 3, 7), datetime.date(2020, 3, 8), datetime.date(2020, 3, 9), datetime.date(2020, 3, 10), datetime.date(2020, 3, 11), datetime.date(2020, 3, 12), datetime.date(2020, 3, 13), datetime.date(2020, 3, 14), datetime.date(2020, 3, 15), datetime.date(2020, 3, 16), datetime.date(2020, 3, 17), datetime.date(2020, 3, 18), datetime.date(2020, 3, 19), datetime.date(2020, 3, 20), datetime.date(2020, 3, 21), datetime.date(2020, 3, 22), datetime.date(2020, 3, 23), datetime.date(2020, 3, 24), datetime.date(2020, 3, 25), datetime.date(2020, 3, 26), datetime.date(2020, 3, 27), datetime.date(2020, 3, 28), datetime.date(2020, 3, 29), datetime.date(2020, 3, 30), datetime.date(2020, 3, 31), datetime.date(2020, 4, 1), datetime.date(2020, 4, 2), datetime.date(2020, 4, 3), datetime.date(2020, 4, 4), datetime.date(2020, 4, 5), datetime.date(2020, 4, 6), datetime.date(2020, 4, 7), datetime.date(2020, 4, 8), datetime.date(2020, 4, 9), datetime.date(2020, 4, 10), datetime.date(2020, 4, 11), datetime.date(2020, 4, 12), datetime.date(2020, 4, 13), datetime.date(2020, 4, 14), datetime.date(2020, 4, 15), datetime.date(2020, 4, 16), datetime.date(2020, 4, 17), datetime.date(2020, 4, 18), datetime.date(2020, 4, 19), datetime.date(2020, 4, 20), datetime.date(2020, 4, 21), datetime.date(2020, 4, 22), datetime.date(2020, 4, 23), datetime.date(2020, 4, 24), datetime.date(2020, 4, 25), datetime.date(2020, 4, 26), datetime.date(2020, 4, 27), datetime.date(2020, 4, 28), datetime.date(2020, 4, 29), datetime.date(2020, 4, 30), datetime.date(2020, 5, 1), datetime.date(2020, 5, 2), datetime.date(2020, 5, 3), datetime.date(2020, 5, 4), datetime.date(2020, 5, 5), datetime.date(2020, 5, 6), datetime.date(2020, 5, 7), datetime.date(2020, 5, 8), datetime.date(2020, 5, 9), datetime.date(2020, 5, 10), datetime.date(2020, 5, 11), datetime.date(2020, 5, 12), datetime.date(2020, 5, 13), datetime.date(2020, 5, 14), datetime.date(2020, 5, 15), datetime.date(2020, 5, 16), datetime.date(2020, 5, 17), datetime.date(2020, 5, 18), datetime.date(2020, 5, 19), datetime.date(2020, 5, 20), datetime.date(2020, 5, 21), datetime.date(2020, 5, 22), datetime.date(2020, 5, 23), datetime.date(2020, 5, 24), datetime.date(2020, 5, 25), datetime.date(2020, 5, 26), datetime.date(2020, 5, 27), datetime.date(2020, 5, 28), datetime.date(2020, 5, 29), datetime.date(2020, 5, 30), datetime.date(2020, 5, 31), datetime.date(2020, 6, 1), datetime.date(2020, 6, 2), datetime.date(2020, 6, 3), datetime.date(2020, 6, 4), datetime.date(2020, 6, 5), datetime.date(2020, 6, 6), datetime.date(2020, 6, 7), datetime.date(2020, 6, 8), datetime.date(2020, 6, 9), datetime.date(2020, 6, 10), datetime.date(2020, 6, 11), datetime.date(2020, 6, 12), datetime.date(2020, 6, 13), datetime.date(2020, 6, 14), datetime.date(2020, 6, 15), datetime.date(2020, 6, 16), datetime.date(2020, 6, 17), datetime.date(2020, 6, 18), datetime.date(2020, 6, 19), datetime.date(2020, 6, 20), datetime.date(2020, 6, 21), datetime.date(2020, 6, 22), datetime.date(2020, 6, 23), datetime.date(2020, 6, 24), datetime.date(2020, 6, 25), datetime.date(2020, 6, 26), datetime.date(2020, 6, 27), datetime.date(2020, 6, 28), datetime.date(2020, 6, 29), datetime.date(2020, 6, 30), datetime.date(2020, 7, 1), datetime.date(2020, 7, 2), datetime.date(2020, 7, 3), datetime.date(2020, 7, 4), datetime.date(2020, 7, 5), datetime.date(2020, 7, 6), datetime.date(2020, 7, 7), datetime.date(2020, 7, 8), datetime.date(2020, 7, 9), datetime.date(2020, 7, 10), datetime.date(2020, 7, 11), datetime.date(2020, 7, 12), datetime.date(2020, 7, 13), datetime.date(2020, 7, 14), datetime.date(2020, 7, 15), datetime.date(2020, 7, 16), datetime.date(2020, 7, 17), datetime.date(2020, 7, 18), datetime.date(2020, 7, 19), datetime.date(2020, 7, 20), datetime.date(2020, 7, 21), datetime.date(2020, 7, 22), datetime.date(2020, 7, 23), datetime.date(2020, 7, 24), datetime.date(2020, 7, 25), datetime.date(2020, 7, 26), datetime.date(2020, 7, 27), datetime.date(2020, 7, 28), datetime.date(2020, 7, 29), datetime.date(2020, 7, 30), datetime.date(2020, 7, 31), datetime.date(2020, 8, 1), datetime.date(2020, 8, 2), datetime.date(2020, 8, 3), datetime.date(2020, 8, 4), datetime.date(2020, 8, 5), datetime.date(2020, 8, 6), datetime.date(2020, 8, 7), datetime.date(2020, 8, 8), datetime.date(2020, 8, 9), datetime.date(2020, 8, 10), datetime.date(2020, 8, 11), datetime.date(2020, 8, 12), datetime.date(2020, 8, 13), datetime.date(2020, 8, 14), datetime.date(2020, 8, 15), datetime.date(2020, 8, 16), datetime.date(2020, 8, 17), datetime.date(2020, 8, 18), datetime.date(2020, 8, 19), datetime.date(2020, 8, 20), datetime.date(2020, 8, 21), datetime.date(2020, 8, 22), datetime.date(2020, 8, 23), datetime.date(2020, 8, 24), datetime.date(2020, 8, 25), datetime.date(2020, 8, 26), datetime.date(2020, 8, 27), datetime.date(2020, 8, 28), datetime.date(2020, 8, 29), datetime.date(2020, 8, 30), datetime.date(2020, 8, 31), datetime.date(2020, 9, 1), datetime.date(2020, 9, 2), datetime.date(2020, 9, 3), datetime.date(2020, 9, 4), datetime.date(2020, 9, 5), datetime.date(2020, 9, 6), datetime.date(2020, 9, 7), datetime.date(2020, 9, 8), datetime.date(2020, 9, 9), datetime.date(2020, 9, 10), datetime.date(2020, 9, 11), datetime.date(2020, 9, 12), datetime.date(2020, 9, 13), datetime.date(2020, 9, 14), datetime.date(2020, 9, 15), datetime.date(2020, 9, 16), datetime.date(2020, 9, 17), datetime.date(2020, 9, 18), datetime.date(2020, 9, 19), datetime.date(2020, 9, 20), datetime.date(2020, 9, 21), datetime.date(2020, 9, 22), datetime.date(2020, 9, 23), datetime.date(2020, 9, 24), datetime.date(2020, 9, 25), datetime.date(2020, 9, 26), datetime.date(2020, 9, 27), datetime.date(2020, 9, 28), datetime.date(2020, 9, 29), datetime.date(2020, 9, 30), datetime.date(2020, 10, 1), datetime.date(2020, 10, 2), datetime.date(2020, 10, 3), datetime.date(2020, 10, 4), datetime.date(2020, 10, 5), datetime.date(2020, 10, 6), datetime.date(2020, 10, 7), datetime.date(2020, 10, 8), datetime.date(2020, 10, 9), datetime.date(2020, 10, 10), datetime.date(2020, 10, 11), datetime.date(2020, 10, 12), datetime.date(2020, 10, 13), datetime.date(2020, 10, 14), datetime.date(2020, 10, 15), datetime.date(2020, 10, 16), datetime.date(2020, 10, 17), datetime.date(2020, 10, 18), datetime.date(2020, 10, 19), datetime.date(2020, 10, 20), datetime.date(2020, 10, 21), datetime.date(2020, 10, 22), datetime.date(2020, 10, 23), datetime.date(2020, 10, 24), datetime.date(2020, 10, 25), datetime.date(2020, 10, 26), datetime.date(2020, 10, 27), datetime.date(2020, 10, 28), datetime.date(2020, 10, 29), datetime.date(2020, 10, 30), datetime.date(2020, 10, 31), datetime.date(2020, 11, 1), datetime.date(2020, 11, 2), datetime.date(2020, 11, 3), datetime.date(2020, 11, 4), datetime.date(2020, 11, 5), datetime.date(2020, 11, 6), datetime.date(2020, 11, 7), datetime.date(2020, 11, 8), datetime.date(2020, 11, 9), datetime.date(2020, 11, 10), datetime.date(2020, 11, 11), datetime.date(2020, 11, 12), datetime.date(2020, 11, 13), datetime.date(2020, 11, 14), datetime.date(2020, 11, 15), datetime.date(2020, 11, 16), datetime.date(2020, 11, 17), datetime.date(2020, 11, 18), datetime.date(2020, 11, 19), datetime.date(2020, 11, 20), datetime.date(2020, 11, 21), datetime.date(2020, 11, 22), datetime.date(2020, 11, 23), datetime.date(2020, 11, 24), datetime.date(2020, 11, 25), datetime.date(2020, 11, 26), datetime.date(2020, 11, 27), datetime.date(2020, 11, 28), datetime.date(2020, 11, 29), datetime.date(2020, 11, 30), datetime.date(2020, 12, 1), datetime.date(2020, 12, 2), datetime.date(2020, 12, 3), datetime.date(2020, 12, 4), datetime.date(2020, 12, 5), datetime.date(2020, 12, 6), datetime.date(2020, 12, 7), datetime.date(2020, 12, 8), datetime.date(2020, 12, 9), datetime.date(2020, 12, 10), datetime.date(2020, 12, 11), datetime.date(2020, 12, 12), datetime.date(2020, 12, 13), datetime.date(2020, 12, 14), datetime.date(2020, 12, 15), datetime.date(2020, 12, 16), datetime.date(2020, 12, 17), datetime.date(2020, 12, 18), datetime.date(2020, 12, 19), datetime.date(2020, 12, 20), datetime.date(2020, 12, 21), datetime.date(2020, 12, 22), datetime.date(2020, 12, 23), datetime.date(2020, 12, 24), datetime.date(2020, 12, 25), datetime.date(2020, 12, 26), datetime.date(2020, 12, 27), datetime.date(2020, 12, 28), datetime.date(2020, 12, 29), datetime.date(2020, 12, 30), datetime.date(2020, 12, 31), datetime.date(2021, 1, 1), datetime.date(2021, 1, 2), datetime.date(2021, 1, 3), datetime.date(2021, 1, 4), datetime.date(2021, 1, 5), datetime.date(2021, 1, 6), datetime.date(2021, 1, 7), datetime.date(2021, 1, 8), datetime.date(2021, 1, 9), datetime.date(2021, 1, 10), datetime.date(2021, 1, 11), datetime.date(2021, 1, 12), datetime.date(2021, 1, 13), datetime.date(2021, 1, 14), datetime.date(2021, 1, 15), datetime.date(2021, 1, 16), datetime.date(2021, 1, 17), datetime.date(2021, 1, 18), datetime.date(2021, 1, 19), datetime.date(2021, 1, 20), datetime.date(2021, 1, 21), datetime.date(2021, 1, 22), datetime.date(2021, 1, 23), datetime.date(2021, 1, 24), datetime.date(2021, 1, 25), datetime.date(2021, 1, 26), datetime.date(2021, 1, 27), datetime.date(2021, 1, 28), datetime.date(2021, 1, 29), datetime.date(2021, 1, 30), datetime.date(2021, 1, 31), datetime.date(2021, 2, 1), datetime.date(2021, 2, 2), datetime.date(2021, 2, 3), datetime.date(2021, 2, 4), datetime.date(2021, 2, 5), datetime.date(2021, 2, 6), datetime.date(2021, 2, 7), datetime.date(2021, 2, 8), datetime.date(2021, 2, 9), datetime.date(2021, 2, 10), datetime.date(2021, 2, 11), datetime.date(2021, 2, 12), datetime.date(2021, 2, 13), datetime.date(2021, 2, 14), datetime.date(2021, 2, 15), datetime.date(2021, 2, 16), datetime.date(2021, 2, 17), datetime.date(2021, 2, 18), datetime.date(2021, 2, 19), datetime.date(2021, 2, 20), datetime.date(2021, 2, 21), datetime.date(2021, 2, 22), datetime.date(2021, 2, 23), datetime.date(2021, 2, 24), datetime.date(2021, 2, 25), datetime.date(2021, 2, 26), datetime.date(2021, 2, 27), datetime.date(2021, 2, 28), datetime.date(2021, 3, 1), datetime.date(2021, 3, 2), datetime.date(2021, 3, 3), datetime.date(2021, 3, 4), datetime.date(2021, 3, 5), datetime.date(2021, 3, 6), datetime.date(2021, 3, 7), datetime.date(2021, 3, 8), datetime.date(2021, 3, 9), datetime.date(2021, 3, 10), datetime.date(2021, 3, 11), datetime.date(2021, 3, 12), datetime.date(2021, 3, 13), datetime.date(2021, 3, 14), datetime.date(2021, 3, 15), datetime.date(2021, 3, 16), datetime.date(2021, 3, 17), datetime.date(2021, 3, 18), datetime.date(2021, 3, 19), datetime.date(2021, 3, 20), datetime.date(2021, 3, 21), datetime.date(2021, 3, 22), datetime.date(2021, 3, 23), datetime.date(2021, 3, 24), datetime.date(2021, 3, 25), datetime.date(2021, 3, 26), datetime.date(2021, 3, 27), datetime.date(2021, 3, 28), datetime.date(2021, 3, 29), datetime.date(2021, 3, 30), datetime.date(2021, 3, 31), datetime.date(2021, 4, 1), datetime.date(2021, 4, 2), datetime.date(2021, 4, 3), datetime.date(2021, 4, 4), datetime.date(2021, 4, 5), datetime.date(2021, 4, 6), datetime.date(2021, 4, 7), datetime.date(2021, 4, 8), datetime.date(2021, 4, 9), datetime.date(2021, 4, 10), datetime.date(2021, 4, 11), datetime.date(2021, 4, 12), datetime.date(2021, 4, 13), datetime.date(2021, 4, 14), datetime.date(2021, 4, 15), datetime.date(2021, 4, 16), datetime.date(2021, 4, 17), datetime.date(2021, 4, 18), datetime.date(2021, 4, 19), datetime.date(2021, 4, 20), datetime.date(2021, 4, 21), datetime.date(2021, 4, 22), datetime.date(2021, 4, 23), datetime.date(2021, 4, 24), datetime.date(2021, 4, 25), datetime.date(2021, 4, 26), datetime.date(2021, 4, 27), datetime.date(2021, 4, 28), datetime.date(2021, 4, 29), datetime.date(2021, 4, 30), datetime.date(2021, 5, 1), datetime.date(2021, 5, 2), datetime.date(2021, 5, 3)]\n"
          ]
        }
      ]
    },
    {
      "cell_type": "markdown",
      "source": [
        "Convert the date list to an RDD then to a dataframe"
      ],
      "metadata": {
        "id": "OKCoiclftibB"
      }
    },
    {
      "cell_type": "code",
      "source": [
        "date_rdd = spark.sparkContext.parallelize(date_list)\n",
        "date_df = spark.createDataFrame(date_rdd, DateType()).toDF(\"date\")\n",
        "date_df.show()"
      ],
      "metadata": {
        "colab": {
          "base_uri": "https://localhost:8080/"
        },
        "id": "xOvTkts3th_I",
        "outputId": "c17adf8f-3089-4602-dcb0-5b605b97398f"
      },
      "execution_count": 17,
      "outputs": [
        {
          "output_type": "stream",
          "name": "stdout",
          "text": [
            "+----------+\n",
            "|      date|\n",
            "+----------+\n",
            "|2019-01-01|\n",
            "|2019-01-02|\n",
            "|2019-01-03|\n",
            "|2019-01-04|\n",
            "|2019-01-05|\n",
            "|2019-01-06|\n",
            "|2019-01-07|\n",
            "|2019-01-08|\n",
            "|2019-01-09|\n",
            "|2019-01-10|\n",
            "|2019-01-11|\n",
            "|2019-01-12|\n",
            "|2019-01-13|\n",
            "|2019-01-14|\n",
            "|2019-01-15|\n",
            "|2019-01-16|\n",
            "|2019-01-17|\n",
            "|2019-01-18|\n",
            "|2019-01-19|\n",
            "|2019-01-20|\n",
            "+----------+\n",
            "only showing top 20 rows\n",
            "\n"
          ]
        }
      ]
    },
    {
      "cell_type": "markdown",
      "source": [
        "Create a list of all the sku's at each store"
      ],
      "metadata": {
        "id": "rrEpaQtstm2A"
      }
    },
    {
      "cell_type": "code",
      "source": [
        "\n",
        "store_skus = (\n",
        "    inventory_data\n",
        "    .select('store_id', 'sku', 'product_category')\n",
        "    .groupBy('store_id', 'sku')\n",
        "    .agg(f.last('product_category').alias('product_category'))\n",
        ")\n",
        "store_skus.show()"
      ],
      "metadata": {
        "colab": {
          "base_uri": "https://localhost:8080/"
        },
        "id": "-4sbsQPWrOk7",
        "outputId": "bbedcf7b-5ef5-4ebd-ba2d-44e6753ddeb4"
      },
      "execution_count": 18,
      "outputs": [
        {
          "output_type": "stream",
          "name": "stdout",
          "text": [
            "+--------+---+----------------+\n",
            "|store_id|sku|product_category|\n",
            "+--------+---+----------------+\n",
            "|      63| 57|     Category 04|\n",
            "|      98| 64|     Category 01|\n",
            "|     164| 76|     Category 05|\n",
            "|     171| 64|     Category 01|\n",
            "|     178| 64|     Category 01|\n",
            "|     206| 64|     Category 01|\n",
            "|     209| 64|     Category 01|\n",
            "|     210|148|     Category 03|\n",
            "|     232| 64|     Category 01|\n",
            "|     249| 64|     Category 01|\n",
            "|     273|110|     Category 02|\n",
            "|     274| 64|     Category 01|\n",
            "|     303| 83|     Category 05|\n",
            "|     334| 52|     Category 06|\n",
            "|     337| 64|     Category 01|\n",
            "|     338| 64|     Category 01|\n",
            "|     339| 64|     Category 01|\n",
            "|     371| 64|     Category 01|\n",
            "|     373| 64|     Category 01|\n",
            "|     377| 64|     Category 01|\n",
            "+--------+---+----------------+\n",
            "only showing top 20 rows\n",
            "\n"
          ]
        }
      ]
    },
    {
      "cell_type": "markdown",
      "source": [
        "Create the complete set of inventory records using the rest of the data"
      ],
      "metadata": {
        "id": "NSvs4-hktzos"
      }
    },
    {
      "cell_type": "code",
      "source": [
        "inventory_with_gaps = (\n",
        "  date_df\n",
        "    .crossJoin(store_skus)\n",
        "    .join(\n",
        "      inventory_data.drop('product_category'),\n",
        "      on=['date','store_id','sku'],\n",
        "      how='leftouter'\n",
        "      )\n",
        "  )\n",
        "print(inventory_with_gaps.count())"
      ],
      "metadata": {
        "colab": {
          "base_uri": "https://localhost:8080/"
        },
        "id": "6dQnZXQasq25",
        "outputId": "d509d14f-4caa-453f-c3d0-26d8bcf832c9"
      },
      "execution_count": 39,
      "outputs": [
        {
          "output_type": "stream",
          "name": "stdout",
          "text": [
            "85400\n"
          ]
        }
      ]
    },
    {
      "cell_type": "markdown",
      "source": [
        "Fill in the missing values using the previous/next days inventory"
      ],
      "metadata": {
        "id": "bl3CnlFLuDzB"
      }
    },
    {
      "cell_type": "code",
      "source": [
        "# copy dataframe to enable manipulations in loop\n",
        "inventory_cleansed = inventory_with_gaps\n",
        "\n",
        "# apply forward fill to appropriate columns\n",
        "for c in ['shelf_capacity', 'on_hand_inventory_units']:\n",
        "  inventory_cleansed = (\n",
        "    inventory_cleansed\n",
        "      .withColumn(\n",
        "          c,\n",
        "          f.expr('LAST({0}, True) OVER(PARTITION BY store_id, sku ORDER BY date)'.format(c)) # get last non-null prior value (aka forward-fill)\n",
        "           )\n",
        "        )\n",
        "\n",
        "# apply default value of 0 to appropriate columns\n",
        "inventory_cleansed = (\n",
        "  inventory_cleansed\n",
        "    .fillna(\n",
        "      0,\n",
        "      [ 'total_sales_units',\n",
        "        'units_under_promotion',\n",
        "        'units_in_transit',\n",
        "        'units_in_dc',\n",
        "        'units_on_order',\n",
        "        'replenishment_units',\n",
        "        'inventory_pipeline'\n",
        "        ]\n",
        "      )\n",
        "  )\n",
        "\n",
        "# display data with imputed values\n",
        "inventory_cleansed.show()"
      ],
      "metadata": {
        "colab": {
          "base_uri": "https://localhost:8080/"
        },
        "id": "Dpsb005juEp7",
        "outputId": "4a99d324-dc72-4df5-b1ca-15236025d9b0"
      },
      "execution_count": 20,
      "outputs": [
        {
          "output_type": "stream",
          "name": "stdout",
          "text": [
            "+----------+--------+---+----------------+-----------------+-----------------------+-------------------+------------------+----------------+-----------+--------------+---------------------+--------------+\n",
            "|      date|store_id|sku|product_category|total_sales_units|on_hand_inventory_units|replenishment_units|inventory_pipeline|units_in_transit|units_in_dc|units_on_order|units_under_promotion|shelf_capacity|\n",
            "+----------+--------+---+----------------+-----------------+-----------------------+-------------------+------------------+----------------+-----------+--------------+---------------------+--------------+\n",
            "|2019-01-01|      63| 57|     Category 04|                0|                   NULL|                  0|                 0|               0|          0|             0|                    0|          NULL|\n",
            "|2019-01-02|      63| 57|     Category 04|                0|                      8|                  0|                16|               0|          0|             8|                    0|            32|\n",
            "|2019-01-03|      63| 57|     Category 04|                0|                      8|                  0|                 0|               0|          0|             0|                    0|            32|\n",
            "|2019-01-04|      63| 57|     Category 04|                0|                      7|                  0|                14|               0|          8|             0|                    0|            32|\n",
            "|2019-01-05|      63| 57|     Category 04|                3|                      5|                  8|                12|               8|          0|             0|                    0|            32|\n",
            "|2019-01-06|      63| 57|     Category 04|                2|                     11|                  0|                11|               0|          0|             0|                    0|            32|\n",
            "|2019-01-07|      63| 57|     Category 04|                0|                     11|                  0|                 0|               0|          0|             0|                    0|            32|\n",
            "|2019-01-08|      63| 57|     Category 04|                0|                     11|                  0|                 0|               0|          0|             0|                    0|            32|\n",
            "|2019-01-09|      63| 57|     Category 04|                3|                      7|                  0|                14|               0|          0|             8|                    0|            32|\n",
            "|2019-01-10|      63| 57|     Category 04|                2|                      5|                  0|                13|               0|          0|             8|                    0|            32|\n",
            "|2019-01-11|      63| 57|     Category 04|                0|                      5|                  0|                 0|               0|          0|             0|                    0|            32|\n",
            "|2019-01-12|      63| 57|     Category 04|                0|                      5|                  0|                 0|               0|          0|             0|                    0|            32|\n",
            "|2019-01-13|      63| 57|     Category 04|                0|                     13|                  0|                21|               0|          8|             0|                    0|            32|\n",
            "|2019-01-14|      63| 57|     Category 04|                0|                     13|                  0|                 0|               0|          0|             0|                    0|            32|\n",
            "|2019-01-15|      63| 57|     Category 04|                0|                     13|                  0|                13|               0|          0|             0|                    0|            32|\n",
            "|2019-01-16|      63| 57|     Category 04|                0|                     14|                  0|                13|               0|          0|             0|                    0|            32|\n",
            "|2019-01-17|      63| 57|     Category 04|                0|                     14|                  0|                 0|               0|          0|             0|                    0|            32|\n",
            "|2019-01-18|      63| 57|     Category 04|                0|                     14|                  0|                 0|               0|          0|             0|                    0|            32|\n",
            "|2019-01-19|      63| 57|     Category 04|                0|                     14|                  0|                 0|               0|          0|             0|                    0|            32|\n",
            "|2019-01-20|      63| 57|     Category 04|                2|                      6|                  0|                14|               0|          0|             8|                    0|            32|\n",
            "+----------+--------+---+----------------+-----------------+-----------------------+-------------------+------------------+----------------+-----------+--------------+---------------------+--------------+\n",
            "only showing top 20 rows\n",
            "\n"
          ]
        }
      ]
    },
    {
      "cell_type": "markdown",
      "source": [
        "# Create Flags\n",
        "Create flags based on inventory events such as promotions used to drive sales and events when new units are added to the inventory"
      ],
      "metadata": {
        "id": "-EQuFUFourwc"
      }
    },
    {
      "cell_type": "code",
      "source": [
        "# derive inventory flags\n",
        "inventory_final = (\n",
        "  inventory_cleansed\n",
        "    .withColumn('promotion_flag', f.expr('CASE WHEN units_under_promotion > 0 THEN 1 ELSE 0 END'))\n",
        "    .withColumn('replenishment_flag', f.expr('CASE WHEN replenishment_units > 0 THEN 1 ELSE 0 END'))\n",
        "    )\n",
        "\n",
        "inventory_final.show()"
      ],
      "metadata": {
        "colab": {
          "base_uri": "https://localhost:8080/"
        },
        "id": "F7SZYSBOudca",
        "outputId": "50fe8d44-a1e2-4add-a100-28859636a954"
      },
      "execution_count": 21,
      "outputs": [
        {
          "output_type": "stream",
          "name": "stdout",
          "text": [
            "+----------+--------+---+----------------+-----------------+-----------------------+-------------------+------------------+----------------+-----------+--------------+---------------------+--------------+--------------+------------------+\n",
            "|      date|store_id|sku|product_category|total_sales_units|on_hand_inventory_units|replenishment_units|inventory_pipeline|units_in_transit|units_in_dc|units_on_order|units_under_promotion|shelf_capacity|promotion_flag|replenishment_flag|\n",
            "+----------+--------+---+----------------+-----------------+-----------------------+-------------------+------------------+----------------+-----------+--------------+---------------------+--------------+--------------+------------------+\n",
            "|2019-01-01|      63| 57|     Category 04|                0|                   NULL|                  0|                 0|               0|          0|             0|                    0|          NULL|             0|                 0|\n",
            "|2019-01-02|      63| 57|     Category 04|                0|                      8|                  0|                16|               0|          0|             8|                    0|            32|             0|                 0|\n",
            "|2019-01-03|      63| 57|     Category 04|                0|                      8|                  0|                 0|               0|          0|             0|                    0|            32|             0|                 0|\n",
            "|2019-01-04|      63| 57|     Category 04|                0|                      7|                  0|                14|               0|          8|             0|                    0|            32|             0|                 0|\n",
            "|2019-01-05|      63| 57|     Category 04|                3|                      5|                  8|                12|               8|          0|             0|                    0|            32|             0|                 1|\n",
            "|2019-01-06|      63| 57|     Category 04|                2|                     11|                  0|                11|               0|          0|             0|                    0|            32|             0|                 0|\n",
            "|2019-01-07|      63| 57|     Category 04|                0|                     11|                  0|                 0|               0|          0|             0|                    0|            32|             0|                 0|\n",
            "|2019-01-08|      63| 57|     Category 04|                0|                     11|                  0|                 0|               0|          0|             0|                    0|            32|             0|                 0|\n",
            "|2019-01-09|      63| 57|     Category 04|                3|                      7|                  0|                14|               0|          0|             8|                    0|            32|             0|                 0|\n",
            "|2019-01-10|      63| 57|     Category 04|                2|                      5|                  0|                13|               0|          0|             8|                    0|            32|             0|                 0|\n",
            "|2019-01-11|      63| 57|     Category 04|                0|                      5|                  0|                 0|               0|          0|             0|                    0|            32|             0|                 0|\n",
            "|2019-01-12|      63| 57|     Category 04|                0|                      5|                  0|                 0|               0|          0|             0|                    0|            32|             0|                 0|\n",
            "|2019-01-13|      63| 57|     Category 04|                0|                     13|                  0|                21|               0|          8|             0|                    0|            32|             0|                 0|\n",
            "|2019-01-14|      63| 57|     Category 04|                0|                     13|                  0|                 0|               0|          0|             0|                    0|            32|             0|                 0|\n",
            "|2019-01-15|      63| 57|     Category 04|                0|                     13|                  0|                13|               0|          0|             0|                    0|            32|             0|                 0|\n",
            "|2019-01-16|      63| 57|     Category 04|                0|                     14|                  0|                13|               0|          0|             0|                    0|            32|             0|                 0|\n",
            "|2019-01-17|      63| 57|     Category 04|                0|                     14|                  0|                 0|               0|          0|             0|                    0|            32|             0|                 0|\n",
            "|2019-01-18|      63| 57|     Category 04|                0|                     14|                  0|                 0|               0|          0|             0|                    0|            32|             0|                 0|\n",
            "|2019-01-19|      63| 57|     Category 04|                0|                     14|                  0|                 0|               0|          0|             0|                    0|            32|             0|                 0|\n",
            "|2019-01-20|      63| 57|     Category 04|                2|                      6|                  0|                14|               0|          0|             8|                    0|            32|             0|                 0|\n",
            "+----------+--------+---+----------------+-----------------+-----------------------+-------------------+------------------+----------------+-----------+--------------+---------------------+--------------+--------------+------------------+\n",
            "only showing top 20 rows\n",
            "\n"
          ]
        }
      ]
    },
    {
      "cell_type": "markdown",
      "source": [
        "# Phantom Inventory\n",
        "Identify inventory decreases that are untracked (items that are lost, stolen, damaged, etc)"
      ],
      "metadata": {
        "id": "lldYOsrBEW6F"
      }
    },
    {
      "cell_type": "code",
      "source": [
        "# phantom inventory calculations\n",
        "phantom_inventory = (\n",
        "  inventory_final\n",
        "\n",
        "    # average daily sales\n",
        "    .withColumn('daily_sales_units', f.expr('AVG(total_sales_units) OVER(PARTITION BY store_id, sku ORDER BY date)'))\n",
        "\n",
        "    # on-hand inventory units at the end of previous day\n",
        "    # for dates with no prior day inventory units, provide alt calculation\n",
        "    .withColumn('start_on_hand_units', f.expr('''\n",
        "      COALESCE(\n",
        "        LAG(on_hand_inventory_units, 1) OVER(PARTITION BY store_id, sku ORDER BY date),\n",
        "        on_hand_inventory_units + total_sales_units - replenishment_units\n",
        "        )\n",
        "        '''))\n",
        "\n",
        "    # on-hand inventory units at end of day\n",
        "    .withColumn('end_on_hand_units', f.expr('COALESCE(on_hand_inventory_units, 0)'))\n",
        "\n",
        "    # calculate phantom inventory as difference in:\n",
        "    # (previous day's on-hand inventory + current day's replenished units - current day's sales units) and current day's end-of-day inventory\n",
        "    .withColumn('phantom_inventory', f.expr('start_on_hand_units + replenishment_units - total_sales_units - end_on_hand_units'))\n",
        "\n",
        "    # flag only when phantom inventory is at least 5 times average daily sales\n",
        "    .withColumn('phantom_inventory_ind', f.expr('''\n",
        "      CASE\n",
        "        WHEN phantom_inventory <> 0 AND ABS(phantom_inventory) > 5 * daily_sales_units THEN 1\n",
        "        ELSE 0\n",
        "        END'''))\n",
        "\n",
        "    .select(\n",
        "      'date',\n",
        "      'store_id',\n",
        "      'sku',\n",
        "      'daily_sales_units',\n",
        "      'start_on_hand_units',\n",
        "      'replenishment_units',\n",
        "      'total_sales_units',\n",
        "      'end_on_hand_units',\n",
        "      'phantom_inventory',\n",
        "      'phantom_inventory_ind'\n",
        "      )\n",
        "    )\n",
        "\n",
        "# display results\n",
        "phantom_inventory.show()"
      ],
      "metadata": {
        "colab": {
          "base_uri": "https://localhost:8080/"
        },
        "id": "r-tdUGQkEoKg",
        "outputId": "08aff21c-d461-4332-8e60-6f7f2acb5265"
      },
      "execution_count": 23,
      "outputs": [
        {
          "output_type": "stream",
          "name": "stdout",
          "text": [
            "+----------+--------+---+------------------+-------------------+-------------------+-----------------+-----------------+-----------------+---------------------+\n",
            "|      date|store_id|sku| daily_sales_units|start_on_hand_units|replenishment_units|total_sales_units|end_on_hand_units|phantom_inventory|phantom_inventory_ind|\n",
            "+----------+--------+---+------------------+-------------------+-------------------+-----------------+-----------------+-----------------+---------------------+\n",
            "|2019-01-01|      63| 57|               0.0|               NULL|                  0|                0|                0|             NULL|                    0|\n",
            "|2019-01-02|      63| 57|               0.0|                  8|                  0|                0|                8|                0|                    0|\n",
            "|2019-01-03|      63| 57|               0.0|                  8|                  0|                0|                8|                0|                    0|\n",
            "|2019-01-04|      63| 57|               0.0|                  8|                  0|                0|                7|                1|                    1|\n",
            "|2019-01-05|      63| 57|               0.6|                  7|                  8|                3|                5|                7|                    1|\n",
            "|2019-01-06|      63| 57|0.8333333333333334|                  5|                  0|                2|               11|               -8|                    1|\n",
            "|2019-01-07|      63| 57|0.7142857142857143|                 11|                  0|                0|               11|                0|                    0|\n",
            "|2019-01-08|      63| 57|             0.625|                 11|                  0|                0|               11|                0|                    0|\n",
            "|2019-01-09|      63| 57|0.8888888888888888|                 11|                  0|                3|                7|                1|                    0|\n",
            "|2019-01-10|      63| 57|               1.0|                  7|                  0|                2|                5|                0|                    0|\n",
            "|2019-01-11|      63| 57|0.9090909090909091|                  5|                  0|                0|                5|                0|                    0|\n",
            "|2019-01-12|      63| 57|0.8333333333333334|                  5|                  0|                0|                5|                0|                    0|\n",
            "|2019-01-13|      63| 57|0.7692307692307693|                  5|                  0|                0|               13|               -8|                    1|\n",
            "|2019-01-14|      63| 57|0.7142857142857143|                 13|                  0|                0|               13|                0|                    0|\n",
            "|2019-01-15|      63| 57|0.6666666666666666|                 13|                  0|                0|               13|                0|                    0|\n",
            "|2019-01-16|      63| 57|             0.625|                 13|                  0|                0|               14|               -1|                    0|\n",
            "|2019-01-17|      63| 57|0.5882352941176471|                 14|                  0|                0|               14|                0|                    0|\n",
            "|2019-01-18|      63| 57|0.5555555555555556|                 14|                  0|                0|               14|                0|                    0|\n",
            "|2019-01-19|      63| 57|0.5263157894736842|                 14|                  0|                0|               14|                0|                    0|\n",
            "|2019-01-20|      63| 57|               0.6|                 14|                  0|                2|                6|                6|                    1|\n",
            "+----------+--------+---+------------------+-------------------+-------------------+-----------------+-----------------+-----------------+---------------------+\n",
            "only showing top 20 rows\n",
            "\n"
          ]
        }
      ]
    },
    {
      "cell_type": "code",
      "source": [
        "count = phantom_inventory.filter(phantom_inventory.end_on_hand_units == 0).count()\n",
        "print(f\"The number of instances where end_on_hand_units = 0 is: {count}\")"
      ],
      "metadata": {
        "colab": {
          "base_uri": "https://localhost:8080/"
        },
        "id": "OdRxyOHmFnun",
        "outputId": "7045d8d9-0fd3-464a-c5a4-2913ee6299df"
      },
      "execution_count": 48,
      "outputs": [
        {
          "output_type": "stream",
          "name": "stdout",
          "text": [
            "The number of instances where end_on_hand_units = 0 is: 16912\n"
          ]
        }
      ]
    },
    {
      "cell_type": "markdown",
      "source": [
        "## Graphing Phantom Inventory"
      ],
      "metadata": {
        "id": "xUr74Q2PKX1V"
      }
    },
    {
      "cell_type": "code",
      "source": [
        "phantom_inventory_graph = (\n",
        "                           phantom_inventory\n",
        "                           .withColumn('expected_inventory', f.expr('start_on_hand_units + replenishment_units - total_sales_units'))\n",
        "                           .withColumn('actual_inventory', f.expr('end_on_hand_units'))\n",
        "                           .select(\n",
        "                               'date',\n",
        "                               'expected_inventory',\n",
        "                               'actual_inventory',\n",
        "                           )\n",
        "                           )\n",
        "\n",
        "\n",
        "daily_expected_inventory = phantom_inventory_graph.groupBy('date').agg(f.sum('expected_inventory').alias('expected_inventory'))\n",
        "daily_actual_inventory = phantom_inventory_graph.groupBy('date').agg(f.sum('actual_inventory').alias('actual_inventory'))\n",
        "phantom_inventory_graph.show()\n",
        "print(daily_expected_inventory.show())"
      ],
      "metadata": {
        "colab": {
          "base_uri": "https://localhost:8080/"
        },
        "id": "ysVqnsA_GKbB",
        "outputId": "d10f0670-dba0-4861-c3e6-6df041e18656"
      },
      "execution_count": 40,
      "outputs": [
        {
          "output_type": "stream",
          "name": "stdout",
          "text": [
            "+----------+------------------+----------------+\n",
            "|      date|expected_inventory|actual_inventory|\n",
            "+----------+------------------+----------------+\n",
            "|2019-01-01|              NULL|               0|\n",
            "|2019-01-02|                 8|               8|\n",
            "|2019-01-03|                 8|               8|\n",
            "|2019-01-04|                 8|               7|\n",
            "|2019-01-05|                12|               5|\n",
            "|2019-01-06|                 3|              11|\n",
            "|2019-01-07|                11|              11|\n",
            "|2019-01-08|                11|              11|\n",
            "|2019-01-09|                 8|               7|\n",
            "|2019-01-10|                 5|               5|\n",
            "|2019-01-11|                 5|               5|\n",
            "|2019-01-12|                 5|               5|\n",
            "|2019-01-13|                 5|              13|\n",
            "|2019-01-14|                13|              13|\n",
            "|2019-01-15|                13|              13|\n",
            "|2019-01-16|                13|              14|\n",
            "|2019-01-17|                14|              14|\n",
            "|2019-01-18|                14|              14|\n",
            "|2019-01-19|                14|              14|\n",
            "|2019-01-20|                12|               6|\n",
            "+----------+------------------+----------------+\n",
            "only showing top 20 rows\n",
            "\n",
            "+----------+------------------+\n",
            "|      date|expected_inventory|\n",
            "+----------+------------------+\n",
            "|2019-05-08|              9193|\n",
            "|2019-06-04|              8733|\n",
            "|2020-08-24|               357|\n",
            "|2021-01-27|              4191|\n",
            "|2019-09-22|             10055|\n",
            "|2019-11-01|              7399|\n",
            "|2019-11-18|              7097|\n",
            "|2020-01-21|              6507|\n",
            "|2020-07-24|               339|\n",
            "|2020-08-05|               337|\n",
            "|2020-11-29|              3586|\n",
            "|2019-11-21|              7136|\n",
            "|2020-04-30|              1359|\n",
            "|2020-08-28|               333|\n",
            "|2020-08-29|               348|\n",
            "|2019-05-27|              8523|\n",
            "|2020-10-04|               405|\n",
            "|2021-04-29|              5599|\n",
            "|2019-02-23|              4974|\n",
            "|2020-03-07|              5879|\n",
            "+----------+------------------+\n",
            "only showing top 20 rows\n",
            "\n",
            "None\n"
          ]
        }
      ]
    },
    {
      "cell_type": "code",
      "source": [
        "import matplotlib.pyplot as plt\n"
      ],
      "metadata": {
        "id": "2NetQ7fhIFMI"
      },
      "execution_count": 41,
      "outputs": []
    },
    {
      "cell_type": "code",
      "source": [
        "daily_inventory = daily_expected_inventory.join(daily_actual_inventory, on='date', how='inner')\n",
        "daily_inventory = daily_inventory.orderBy('date')\n",
        "\n",
        "# Convert the joined DataFrame to Pandas\n",
        "daily_inventory_pd = daily_inventory.toPandas()\n",
        "\n",
        "\n",
        "# Plotting\n",
        "plt.figure(figsize=(12, 6))\n",
        "plt.plot(daily_inventory_pd['date'], daily_inventory_pd['expected_inventory'], label='Expected Inventory')\n",
        "plt.plot(daily_inventory_pd['date'], daily_inventory_pd['actual_inventory'], label='Actual Inventory')\n",
        "plt.xlabel('Date')\n",
        "plt.ylabel('Inventory Units')\n",
        "plt.title('Expected vs Actual Inventory')\n",
        "plt.legend()\n",
        "plt.grid(True)\n",
        "plt.show()"
      ],
      "metadata": {
        "colab": {
          "base_uri": "https://localhost:8080/",
          "height": 564
        },
        "id": "EgXtleEeIJln",
        "outputId": "af1272f9-4d85-4313-b00f-465c7aecc5e8"
      },
      "execution_count": 42,
      "outputs": [
        {
          "output_type": "display_data",
          "data": {
            "text/plain": [
              "<Figure size 1200x600 with 1 Axes>"
            ],
            "image/png": "[encoded data removed]"
          },
          "metadata": {}
        }
      ]
    },
    {
      "cell_type": "code",
      "source": [
        "daily_inventory = daily_inventory.filter(\n",
        "    (f.col(\"date\") >= f.lit(\"2020-10-01\")) & (f.col(\"date\") <= f.lit(\"2020-10-31\"))\n",
        ")\n",
        "\n",
        "# Convert the joined DataFrame to Pandas\n",
        "daily_inventory_pd = daily_inventory.toPandas()\n",
        "\n",
        "\n",
        "# Plotting\n",
        "plt.figure(figsize=(12, 6))\n",
        "plt.plot(daily_inventory_pd['date'], daily_inventory_pd['expected_inventory'], label='Expected Inventory')\n",
        "plt.plot(daily_inventory_pd['date'], daily_inventory_pd['actual_inventory'], label='Actual Inventory')\n",
        "plt.xlabel('Date')\n",
        "plt.ylabel('Inventory Units')\n",
        "plt.title('Expected vs Actual Inventory')\n",
        "plt.legend()\n",
        "plt.grid(True)\n",
        "plt.show()"
      ],
      "metadata": {
        "colab": {
          "base_uri": "https://localhost:8080/",
          "height": 564
        },
        "id": "5_CrfUPsKC3U",
        "outputId": "8b003022-de91-427b-d32d-b79cba788c5c"
      },
      "execution_count": 43,
      "outputs": [
        {
          "output_type": "display_data",
          "data": {
            "text/plain": [
              "<Figure size 1200x600 with 1 Axes>"
            ],
            "image/png": "[encoded data removed]"
          },
          "metadata": {}
        }
      ]
    },
    {
      "cell_type": "markdown",
      "source": [
        "# Identify Out of Stocks"
      ],
      "metadata": {
        "id": "8NQ-2OXTLUZi"
      }
    },
    {
      "cell_type": "markdown",
      "source": [
        "## Join with Phantom Inventory"
      ],
      "metadata": {
        "id": "Bps0sc4_LowK"
      }
    },
    {
      "cell_type": "code",
      "source": [
        "# combine inventory with phantom inventory and min lead times\n",
        "inventory_with_pi = (\n",
        "  inventory_final.alias('inv')\n",
        "    .join(phantom_inventory.alias('pi'), on=['store_id','sku','date'])\n",
        "\n",
        "    # limit fields to use moving forward\n",
        "    .selectExpr(\n",
        "      'inv.store_id',\n",
        "      'inv.sku',\n",
        "      'inv.date',\n",
        "      'inv.product_category',\n",
        "      'inv.on_hand_inventory_units',\n",
        "      'inv.total_sales_units',\n",
        "      'inv.replenishment_units',\n",
        "      'inv.replenishment_flag',\n",
        "      'inv.units_on_order',\n",
        "      'inv.units_in_transit',\n",
        "      'inv.units_in_dc',\n",
        "      'pi.phantom_inventory'\n",
        "      )\n",
        "\n",
        "  # correct inventory values to enable calculations\n",
        "  .withColumn('phantom_inventory', f.expr('COALESCE(phantom_inventory, 0)'))\n",
        "  .withColumn('on_hand_inventory_units', f.expr('''\n",
        "              CASE\n",
        "                WHEN on_hand_inventory_units < 0 THEN 0\n",
        "                ELSE on_hand_inventory_units\n",
        "                END''')\n",
        "             )\n",
        "   .withColumn('replenishment_units', f.expr('''\n",
        "              CASE\n",
        "                WHEN replenishment_flag = 1 THEN replenishment_units\n",
        "                ELSE 0\n",
        "                END''')\n",
        "             )\n",
        "\n",
        "  # initialize estimated on-hand inventory field\n",
        "   .withColumn('estimated_on_hand_inventory', f.lit(0))\n",
        "  )\n",
        "\n",
        "inventory_with_pi.show()"
      ],
      "metadata": {
        "colab": {
          "base_uri": "https://localhost:8080/"
        },
        "id": "WoD8yNKdLWaE",
        "outputId": "0b541dff-8221-488d-bba2-99e67d2a0a0d"
      },
      "execution_count": 24,
      "outputs": [
        {
          "output_type": "stream",
          "name": "stdout",
          "text": [
            "+--------+---+----------+----------------+-----------------------+-----------------+-------------------+------------------+--------------+----------------+-----------+-----------------+---------------------------+\n",
            "|store_id|sku|      date|product_category|on_hand_inventory_units|total_sales_units|replenishment_units|replenishment_flag|units_on_order|units_in_transit|units_in_dc|phantom_inventory|estimated_on_hand_inventory|\n",
            "+--------+---+----------+----------------+-----------------------+-----------------+-------------------+------------------+--------------+----------------+-----------+-----------------+---------------------------+\n",
            "|      63| 57|2019-01-01|     Category 04|                   NULL|                0|                  0|                 0|             0|               0|          0|                0|                          0|\n",
            "|      63| 57|2019-01-02|     Category 04|                      8|                0|                  0|                 0|             8|               0|          0|                0|                          0|\n",
            "|      63| 57|2019-01-03|     Category 04|                      8|                0|                  0|                 0|             0|               0|          0|                0|                          0|\n",
            "|      63| 57|2019-01-04|     Category 04|                      7|                0|                  0|                 0|             0|               0|          8|                1|                          0|\n",
            "|      63| 57|2019-01-05|     Category 04|                      5|                3|                  8|                 1|             0|               8|          0|                7|                          0|\n",
            "|      63| 57|2019-01-06|     Category 04|                     11|                2|                  0|                 0|             0|               0|          0|               -8|                          0|\n",
            "|      63| 57|2019-01-07|     Category 04|                     11|                0|                  0|                 0|             0|               0|          0|                0|                          0|\n",
            "|      63| 57|2019-01-08|     Category 04|                     11|                0|                  0|                 0|             0|               0|          0|                0|                          0|\n",
            "|      63| 57|2019-01-09|     Category 04|                      7|                3|                  0|                 0|             8|               0|          0|                1|                          0|\n",
            "|      63| 57|2019-01-10|     Category 04|                      5|                2|                  0|                 0|             8|               0|          0|                0|                          0|\n",
            "|      63| 57|2019-01-11|     Category 04|                      5|                0|                  0|                 0|             0|               0|          0|                0|                          0|\n",
            "|      63| 57|2019-01-12|     Category 04|                      5|                0|                  0|                 0|             0|               0|          0|                0|                          0|\n",
            "|      63| 57|2019-01-13|     Category 04|                     13|                0|                  0|                 0|             0|               0|          8|               -8|                          0|\n",
            "|      63| 57|2019-01-14|     Category 04|                     13|                0|                  0|                 0|             0|               0|          0|                0|                          0|\n",
            "|      63| 57|2019-01-15|     Category 04|                     13|                0|                  0|                 0|             0|               0|          0|                0|                          0|\n",
            "|      63| 57|2019-01-16|     Category 04|                     14|                0|                  0|                 0|             0|               0|          0|               -1|                          0|\n",
            "|      63| 57|2019-01-17|     Category 04|                     14|                0|                  0|                 0|             0|               0|          0|                0|                          0|\n",
            "|      63| 57|2019-01-18|     Category 04|                     14|                0|                  0|                 0|             0|               0|          0|                0|                          0|\n",
            "|      63| 57|2019-01-19|     Category 04|                     14|                0|                  0|                 0|             0|               0|          0|                0|                          0|\n",
            "|      63| 57|2019-01-20|     Category 04|                      6|                2|                  0|                 0|             8|               0|          0|                6|                          0|\n",
            "+--------+---+----------+----------------+-----------------------+-----------------+-------------------+------------------+--------------+----------------+-----------+-----------------+---------------------------+\n",
            "only showing top 20 rows\n",
            "\n"
          ]
        }
      ]
    },
    {
      "cell_type": "markdown",
      "source": [
        "## Estimate Inventory On-Hand"
      ],
      "metadata": {
        "id": "hXYC30CALtJ6"
      }
    },
    {
      "cell_type": "code",
      "source": [
        "# iterate over inventory to calculate current inventory levels\n",
        "def get_estimated_inventory(inventory_pd: pd.DataFrame) -> pd.DataFrame:\n",
        "\n",
        "  inventory_pd.sort_values('date', inplace=True)\n",
        "\n",
        "  # iterate over records in inventory data\n",
        "  for i in range(1,len(inventory_pd)):\n",
        "\n",
        "    # get component values\n",
        "    previous_inv = inventory_pd.estimated_on_hand_inventory.iloc[i-1]\n",
        "    if previous_inv < 0: previous_inv = 0\n",
        "\n",
        "    replenishment_units = inventory_pd.replenishment_units.iloc[i]\n",
        "    total_sales_units = inventory_pd.total_sales_units.iloc[i]\n",
        "    phantom_inventory_units = inventory_pd.phantom_inventory.iloc[i]\n",
        "    on_hand_inventory_units = inventory_pd.on_hand_inventory_units.iloc[i]\n",
        "\n",
        "    # calculate estimated on-hand inventory\n",
        "    estimated_on_hand_inventory = previous_inv + replenishment_units - total_sales_units - phantom_inventory_units\n",
        "    if estimated_on_hand_inventory < 0: estimated_on_hand_inventory = 0\n",
        "    if estimated_on_hand_inventory > on_hand_inventory_units: estimated_on_hand_inventory = on_hand_inventory_units\n",
        "\n",
        "    inventory_pd.estimated_on_hand_inventory.iloc[i] = estimated_on_hand_inventory\n",
        "\n",
        "  return inventory_pd\n",
        "\n",
        "\n",
        "# calculate estimated on-hand inventory\n",
        "inventory_on_hand = (\n",
        "  inventory_with_pi\n",
        "  .groupby('store_id', 'sku')\n",
        "    .applyInPandas( get_estimated_inventory, schema=inventory_with_pi.schema )\n",
        "  )\n",
        "\n",
        "inventory_on_hand.show(20)"
      ],
      "metadata": {
        "colab": {
          "base_uri": "https://localhost:8080/"
        },
        "id": "JGoI0sBzL0T3",
        "outputId": "ac779067-0bdb-4675-be4b-690d99da0455"
      },
      "execution_count": 25,
      "outputs": [
        {
          "output_type": "stream",
          "name": "stdout",
          "text": [
            "+--------+---+----------+----------------+-----------------------+-----------------+-------------------+------------------+--------------+----------------+-----------+-----------------+---------------------------+\n",
            "|store_id|sku|      date|product_category|on_hand_inventory_units|total_sales_units|replenishment_units|replenishment_flag|units_on_order|units_in_transit|units_in_dc|phantom_inventory|estimated_on_hand_inventory|\n",
            "+--------+---+----------+----------------+-----------------------+-----------------+-------------------+------------------+--------------+----------------+-----------+-----------------+---------------------------+\n",
            "|      63| 57|2019-01-01|     Category 04|                   NULL|                0|                  0|                 0|             0|               0|          0|                0|                          0|\n",
            "|      63| 57|2019-01-02|     Category 04|                      8|                0|                  0|                 0|             8|               0|          0|                0|                          0|\n",
            "|      63| 57|2019-01-03|     Category 04|                      8|                0|                  0|                 0|             0|               0|          0|                0|                          0|\n",
            "|      63| 57|2019-01-04|     Category 04|                      7|                0|                  0|                 0|             0|               0|          8|                1|                          0|\n",
            "|      63| 57|2019-01-05|     Category 04|                      5|                3|                  8|                 1|             0|               8|          0|                7|                          0|\n",
            "|      63| 57|2019-01-06|     Category 04|                     11|                2|                  0|                 0|             0|               0|          0|               -8|                          6|\n",
            "|      63| 57|2019-01-07|     Category 04|                     11|                0|                  0|                 0|             0|               0|          0|                0|                          6|\n",
            "|      63| 57|2019-01-08|     Category 04|                     11|                0|                  0|                 0|             0|               0|          0|                0|                          6|\n",
            "|      63| 57|2019-01-09|     Category 04|                      7|                3|                  0|                 0|             8|               0|          0|                1|                          2|\n",
            "|      63| 57|2019-01-10|     Category 04|                      5|                2|                  0|                 0|             8|               0|          0|                0|                          0|\n",
            "|      63| 57|2019-01-11|     Category 04|                      5|                0|                  0|                 0|             0|               0|          0|                0|                          0|\n",
            "|      63| 57|2019-01-12|     Category 04|                      5|                0|                  0|                 0|             0|               0|          0|                0|                          0|\n",
            "|      63| 57|2019-01-13|     Category 04|                     13|                0|                  0|                 0|             0|               0|          8|               -8|                          8|\n",
            "|      63| 57|2019-01-14|     Category 04|                     13|                0|                  0|                 0|             0|               0|          0|                0|                          8|\n",
            "|      63| 57|2019-01-15|     Category 04|                     13|                0|                  0|                 0|             0|               0|          0|                0|                          8|\n",
            "|      63| 57|2019-01-16|     Category 04|                     14|                0|                  0|                 0|             0|               0|          0|               -1|                          9|\n",
            "|      63| 57|2019-01-17|     Category 04|                     14|                0|                  0|                 0|             0|               0|          0|                0|                          9|\n",
            "|      63| 57|2019-01-18|     Category 04|                     14|                0|                  0|                 0|             0|               0|          0|                0|                          9|\n",
            "|      63| 57|2019-01-19|     Category 04|                     14|                0|                  0|                 0|             0|               0|          0|                0|                          9|\n",
            "|      63| 57|2019-01-20|     Category 04|                      6|                2|                  0|                 0|             8|               0|          0|                6|                          1|\n",
            "+--------+---+----------+----------------+-----------------------+-----------------+-------------------+------------------+--------------+----------------+-----------+-----------------+---------------------------+\n",
            "only showing top 20 rows\n",
            "\n"
          ]
        }
      ]
    },
    {
      "cell_type": "markdown",
      "source": [
        "## Calculate Average On-Hand and Average Daily Sales Metrics"
      ],
      "metadata": {
        "id": "MeZduKBnO9Za"
      }
    },
    {
      "cell_type": "code",
      "source": [
        "inventory_with_metrics = (\n",
        "  inventory_on_hand\n",
        "\n",
        "    # AVERAGE ON-HAND UNITS PRIOR TO REPLENISHMENT\n",
        "    # ------------------------------------------------------------------------------------\n",
        "    # getting prior day's on-hand inventory only for the days with replenishment\n",
        "    .withColumn('prior_inventory', f.expr('LAG(estimated_on_hand_inventory, 1) OVER(PARTITION BY store_id, sku ORDER BY date)'))\n",
        "    .withColumn('prior_inventory', f.expr('COALESCE(prior_inventory,0)'))\n",
        "    .withColumn('prior_inventory', f.expr('CASE WHEN replenishment_flag=1 THEN prior_inventory ELSE 0 END'))\n",
        "\n",
        "    # calculating rolling average of prior day's on-hand inventory for days with replenishment (over last 90 days)\n",
        "    .withColumn('rolling_stock_onhand', f.expr('''\n",
        "      SUM(prior_inventory) OVER(PARTITION BY store_id, sku ORDER BY date ROWS BETWEEN 90 PRECEDING AND CURRENT ROW) /\n",
        "      (SUM(replenishment_flag) OVER(PARTITION BY store_id, sku ORDER BY date ROWS BETWEEN 90 PRECEDING AND CURRENT ROW) + 1)\n",
        "      '''\n",
        "      ))\n",
        "    .withColumn('rolling_min_expected_stock', f.expr('CASE WHEN replenishment_flag != 1 THEN 0 ELSE rolling_stock_onhand END'))\n",
        "    .withColumn('rolling_min_expected_stock', f.expr('COALESCE(rolling_min_expected_stock,0)'))\n",
        "\n",
        "    # fixing the inventory values for all dates through forward fill\n",
        "    .withColumn('min_expected_stock', f.expr('NULLIF(rolling_min_expected_stock,0)'))\n",
        "    .withColumn('min_expected_stock', f.expr('LAST(min_expected_stock, True) OVER(PARTITION BY store_id, sku ORDER BY date)'))\n",
        "    .withColumn('min_expected_stock', f.expr('COALESCE(min_expected_stock, 0)'))\n",
        "    # ------------------------------------------------------------------------------------\n",
        "\n",
        "    # AVERAGE DAILY SALES\n",
        "    # ------------------------------------------------------------------------------------\n",
        "    # getting daily sales velocity\n",
        "    .withColumn('daily_sales_units', f.expr('AVG(total_sales_units) OVER(PARTITION BY store_id, sku ORDER BY date ROWS BETWEEN 90 PRECEDING AND CURRENT ROW)'))\n",
        "    .withColumn('daily_sales_units', f.expr('LAST(daily_sales_units, True) OVER(PARTITION BY store_id, sku ORDER BY date)'))\n",
        "    .withColumn('daily_sales_units', f.expr('COALESCE(daily_sales_units, 0)'))\n",
        "    # ------------------------------------------------------------------------------------\n",
        "  )\n",
        "\n",
        "inventory_with_metrics.show(20)"
      ],
      "metadata": {
        "colab": {
          "base_uri": "https://localhost:8080/"
        },
        "id": "HDb00gpJMHn2",
        "outputId": "7aa4ca45-a1f6-4c5b-9023-e4764d384e71"
      },
      "execution_count": 26,
      "outputs": [
        {
          "output_type": "stream",
          "name": "stdout",
          "text": [
            "+--------+---+----------+----------------+-----------------------+-----------------+-------------------+------------------+--------------+----------------+-----------+-----------------+---------------------------+---------------+--------------------+--------------------------+------------------+------------------+\n",
            "|store_id|sku|      date|product_category|on_hand_inventory_units|total_sales_units|replenishment_units|replenishment_flag|units_on_order|units_in_transit|units_in_dc|phantom_inventory|estimated_on_hand_inventory|prior_inventory|rolling_stock_onhand|rolling_min_expected_stock|min_expected_stock| daily_sales_units|\n",
            "+--------+---+----------+----------------+-----------------------+-----------------+-------------------+------------------+--------------+----------------+-----------+-----------------+---------------------------+---------------+--------------------+--------------------------+------------------+------------------+\n",
            "|      63| 57|2019-01-01|     Category 04|                   NULL|                0|                  0|                 0|             0|               0|          0|                0|                          0|              0|                 0.0|                       0.0|               0.0|               0.0|\n",
            "|      63| 57|2019-01-02|     Category 04|                      8|                0|                  0|                 0|             8|               0|          0|                0|                          0|              0|                 0.0|                       0.0|               0.0|               0.0|\n",
            "|      63| 57|2019-01-03|     Category 04|                      8|                0|                  0|                 0|             0|               0|          0|                0|                          0|              0|                 0.0|                       0.0|               0.0|               0.0|\n",
            "|      63| 57|2019-01-04|     Category 04|                      7|                0|                  0|                 0|             0|               0|          8|                1|                          0|              0|                 0.0|                       0.0|               0.0|               0.0|\n",
            "|      63| 57|2019-01-05|     Category 04|                      5|                3|                  8|                 1|             0|               8|          0|                7|                          0|              0|                 0.0|                       0.0|               0.0|               0.6|\n",
            "|      63| 57|2019-01-06|     Category 04|                     11|                2|                  0|                 0|             0|               0|          0|               -8|                          6|              0|                 0.0|                       0.0|               0.0|0.8333333333333334|\n",
            "|      63| 57|2019-01-07|     Category 04|                     11|                0|                  0|                 0|             0|               0|          0|                0|                          6|              0|                 0.0|                       0.0|               0.0|0.7142857142857143|\n",
            "|      63| 57|2019-01-08|     Category 04|                     11|                0|                  0|                 0|             0|               0|          0|                0|                          6|              0|                 0.0|                       0.0|               0.0|             0.625|\n",
            "|      63| 57|2019-01-09|     Category 04|                      7|                3|                  0|                 0|             8|               0|          0|                1|                          2|              0|                 0.0|                       0.0|               0.0|0.8888888888888888|\n",
            "|      63| 57|2019-01-10|     Category 04|                      5|                2|                  0|                 0|             8|               0|          0|                0|                          0|              0|                 0.0|                       0.0|               0.0|               1.0|\n",
            "|      63| 57|2019-01-11|     Category 04|                      5|                0|                  0|                 0|             0|               0|          0|                0|                          0|              0|                 0.0|                       0.0|               0.0|0.9090909090909091|\n",
            "|      63| 57|2019-01-12|     Category 04|                      5|                0|                  0|                 0|             0|               0|          0|                0|                          0|              0|                 0.0|                       0.0|               0.0|0.8333333333333334|\n",
            "|      63| 57|2019-01-13|     Category 04|                     13|                0|                  0|                 0|             0|               0|          8|               -8|                          8|              0|                 0.0|                       0.0|               0.0|0.7692307692307693|\n",
            "|      63| 57|2019-01-14|     Category 04|                     13|                0|                  0|                 0|             0|               0|          0|                0|                          8|              0|                 0.0|                       0.0|               0.0|0.7142857142857143|\n",
            "|      63| 57|2019-01-15|     Category 04|                     13|                0|                  0|                 0|             0|               0|          0|                0|                          8|              0|                 0.0|                       0.0|               0.0|0.6666666666666666|\n",
            "|      63| 57|2019-01-16|     Category 04|                     14|                0|                  0|                 0|             0|               0|          0|               -1|                          9|              0|                 0.0|                       0.0|               0.0|             0.625|\n",
            "|      63| 57|2019-01-17|     Category 04|                     14|                0|                  0|                 0|             0|               0|          0|                0|                          9|              0|                 0.0|                       0.0|               0.0|0.5882352941176471|\n",
            "|      63| 57|2019-01-18|     Category 04|                     14|                0|                  0|                 0|             0|               0|          0|                0|                          9|              0|                 0.0|                       0.0|               0.0|0.5555555555555556|\n",
            "|      63| 57|2019-01-19|     Category 04|                     14|                0|                  0|                 0|             0|               0|          0|                0|                          9|              0|                 0.0|                       0.0|               0.0|0.5263157894736842|\n",
            "|      63| 57|2019-01-20|     Category 04|                      6|                2|                  0|                 0|             8|               0|          0|                6|                          1|              0|                 0.0|                       0.0|               0.0|               0.6|\n",
            "+--------+---+----------+----------------+-----------------------+-----------------+-------------------+------------------+--------------+----------------+-----------+-----------------+---------------------------+---------------+--------------------+--------------------------+------------------+------------------+\n",
            "only showing top 20 rows\n",
            "\n"
          ]
        }
      ]
    },
    {
      "cell_type": "markdown",
      "source": [
        "## Calculate Shortest Lead Time for Each Store-SKU"
      ],
      "metadata": {
        "id": "KFn9KxQPPGlv"
      }
    },
    {
      "cell_type": "code",
      "source": [
        "# calculate shortest lead time for each store-sku combination\n",
        "lead_time = (\n",
        "  vendor_data\n",
        "    .withColumn('min_lead_time', f.expr('LEAST(lead_time_in_dc, lead_time_in_transit, lead_time_on_order)'))\n",
        "    .select('store_id', 'sku', 'min_lead_time', 'lead_time_in_dc', 'lead_time_in_transit', 'lead_time_on_order')\n",
        "    )\n",
        "\n",
        "lead_time.show()"
      ],
      "metadata": {
        "colab": {
          "base_uri": "https://localhost:8080/"
        },
        "id": "fOlMeMwYM_HM",
        "outputId": "555885b6-49bd-42d8-d811-f4534aa2b7fc"
      },
      "execution_count": 27,
      "outputs": [
        {
          "output_type": "stream",
          "name": "stdout",
          "text": [
            "+--------+---+-------------+---------------+--------------------+------------------+\n",
            "|store_id|sku|min_lead_time|lead_time_in_dc|lead_time_in_transit|lead_time_on_order|\n",
            "+--------+---+-------------+---------------+--------------------+------------------+\n",
            "|    1763|  1|            3|              4|                   3|                 7|\n",
            "|    1763|  2|            1|              2|                   1|                 7|\n",
            "|    1843|  2|            1|              2|                   1|                 7|\n",
            "|    1763|  3|            3|              4|                   3|                 7|\n",
            "|     486|  6|            1|              2|                   1|                 8|\n",
            "|    1587|  7|            2|              3|                   2|                 9|\n",
            "|    1556|  8|            3|              4|                   3|                 7|\n",
            "|    1283| 39|            2|              3|                   2|                 6|\n",
            "|    1763| 46|            1|              2|                   1|                 5|\n",
            "|     334| 52|            3|              4|                   3|                 8|\n",
            "|      63| 57|            3|              4|                   3|                10|\n",
            "|      98| 64|            2|              3|                   2|                 9|\n",
            "|     171| 64|            2|              3|                   2|                 7|\n",
            "|     178| 64|            1|              2|                   1|                 6|\n",
            "|     206| 64|            3|              4|                   3|                 8|\n",
            "|     209| 64|            1|              2|                   1|                 5|\n",
            "|     232| 64|            1|              2|                   1|                 5|\n",
            "|     249| 64|            3|              4|                   3|                 9|\n",
            "|     274| 64|            3|              4|                   3|                10|\n",
            "|     337| 64|            2|              3|                   2|                 8|\n",
            "+--------+---+-------------+---------------+--------------------+------------------+\n",
            "only showing top 20 rows\n",
            "\n"
          ]
        }
      ]
    },
    {
      "cell_type": "markdown",
      "source": [
        "## Determine Safety Stock"
      ],
      "metadata": {
        "id": "iGIQncKaPIMR"
      }
    },
    {
      "cell_type": "code",
      "source": [
        "inventory_safety_stock = (\n",
        "  inventory_with_metrics\n",
        "    .join(lead_time, on=['store_id','sku'], how='leftouter')\n",
        "\n",
        "    # safety stock for sales velocity is avg daily sales units * min_lead_time\n",
        "    .withColumn('ss_sales_velocity', f.expr('daily_sales_units * min_lead_time'))\n",
        "\n",
        "    # use the lower of the min_expected_stock at replenishment or sales_velocity-derived stock requirement as safety stock\n",
        "    .withColumn('safety_stock', f.expr('CASE WHEN min_expected_stock < ss_sales_velocity THEN min_expected_stock ELSE ss_sales_velocity END'))\n",
        "    .withColumn('safety_stock', f.expr('CASE WHEN replenishment_flag != 1 THEN 0 ELSE safety_stock END'))\n",
        "    .withColumn('safety_stock', f.expr('COALESCE(safety_stock,0)'))\n",
        "    .withColumn('safety_stock', f.expr('CASE WHEN safety_stock=0 THEN min_expected_stock ELSE safety_stock END'))\n",
        "\n",
        "    .select(\n",
        "      'date',\n",
        "      'store_id',\n",
        "      'sku',\n",
        "      'product_category',\n",
        "      'total_sales_units',\n",
        "      'on_hand_inventory_units',\n",
        "      'replenishment_units',\n",
        "      'replenishment_flag',\n",
        "      'phantom_inventory',\n",
        "      'estimated_on_hand_inventory',\n",
        "      'prior_inventory',\n",
        "      'rolling_min_expected_stock',\n",
        "      'min_expected_stock',\n",
        "      'daily_sales_units',\n",
        "      'safety_stock',\n",
        "      'units_on_order',\n",
        "      'units_in_transit',\n",
        "      'units_in_dc',\n",
        "      'lead_time_in_transit',\n",
        "      'lead_time_in_dc',\n",
        "      'lead_time_on_order'\n",
        "      )\n",
        "  )\n",
        "\n",
        "inventory_safety_stock.show()"
      ],
      "metadata": {
        "colab": {
          "base_uri": "https://localhost:8080/"
        },
        "id": "-Yc4xlQ4NDvA",
        "outputId": "a079d2f3-5930-4d16-8e68-f22608e2cac5"
      },
      "execution_count": 28,
      "outputs": [
        {
          "output_type": "stream",
          "name": "stdout",
          "text": [
            "+----------+--------+---+----------------+-----------------+-----------------------+-------------------+------------------+-----------------+---------------------------+---------------+--------------------------+------------------+------------------+------------+--------------+----------------+-----------+--------------------+---------------+------------------+\n",
            "|      date|store_id|sku|product_category|total_sales_units|on_hand_inventory_units|replenishment_units|replenishment_flag|phantom_inventory|estimated_on_hand_inventory|prior_inventory|rolling_min_expected_stock|min_expected_stock| daily_sales_units|safety_stock|units_on_order|units_in_transit|units_in_dc|lead_time_in_transit|lead_time_in_dc|lead_time_on_order|\n",
            "+----------+--------+---+----------------+-----------------+-----------------------+-------------------+------------------+-----------------+---------------------------+---------------+--------------------------+------------------+------------------+------------+--------------+----------------+-----------+--------------------+---------------+------------------+\n",
            "|2019-01-01|      63| 57|     Category 04|                0|                   NULL|                  0|                 0|                0|                          0|              0|                       0.0|               0.0|               0.0|         0.0|             0|               0|          0|                   3|              4|                10|\n",
            "|2019-01-02|      63| 57|     Category 04|                0|                      8|                  0|                 0|                0|                          0|              0|                       0.0|               0.0|               0.0|         0.0|             8|               0|          0|                   3|              4|                10|\n",
            "|2019-01-03|      63| 57|     Category 04|                0|                      8|                  0|                 0|                0|                          0|              0|                       0.0|               0.0|               0.0|         0.0|             0|               0|          0|                   3|              4|                10|\n",
            "|2019-01-04|      63| 57|     Category 04|                0|                      7|                  0|                 0|                1|                          0|              0|                       0.0|               0.0|               0.0|         0.0|             0|               0|          8|                   3|              4|                10|\n",
            "|2019-01-05|      63| 57|     Category 04|                3|                      5|                  8|                 1|                7|                          0|              0|                       0.0|               0.0|               0.6|         0.0|             0|               8|          0|                   3|              4|                10|\n",
            "|2019-01-06|      63| 57|     Category 04|                2|                     11|                  0|                 0|               -8|                          6|              0|                       0.0|               0.0|0.8333333333333334|         0.0|             0|               0|          0|                   3|              4|                10|\n",
            "|2019-01-07|      63| 57|     Category 04|                0|                     11|                  0|                 0|                0|                          6|              0|                       0.0|               0.0|0.7142857142857143|         0.0|             0|               0|          0|                   3|              4|                10|\n",
            "|2019-01-08|      63| 57|     Category 04|                0|                     11|                  0|                 0|                0|                          6|              0|                       0.0|               0.0|             0.625|         0.0|             0|               0|          0|                   3|              4|                10|\n",
            "|2019-01-09|      63| 57|     Category 04|                3|                      7|                  0|                 0|                1|                          2|              0|                       0.0|               0.0|0.8888888888888888|         0.0|             8|               0|          0|                   3|              4|                10|\n",
            "|2019-01-10|      63| 57|     Category 04|                2|                      5|                  0|                 0|                0|                          0|              0|                       0.0|               0.0|               1.0|         0.0|             8|               0|          0|                   3|              4|                10|\n",
            "|2019-01-11|      63| 57|     Category 04|                0|                      5|                  0|                 0|                0|                          0|              0|                       0.0|               0.0|0.9090909090909091|         0.0|             0|               0|          0|                   3|              4|                10|\n",
            "|2019-01-12|      63| 57|     Category 04|                0|                      5|                  0|                 0|                0|                          0|              0|                       0.0|               0.0|0.8333333333333334|         0.0|             0|               0|          0|                   3|              4|                10|\n",
            "|2019-01-13|      63| 57|     Category 04|                0|                     13|                  0|                 0|               -8|                          8|              0|                       0.0|               0.0|0.7692307692307693|         0.0|             0|               0|          8|                   3|              4|                10|\n",
            "|2019-01-14|      63| 57|     Category 04|                0|                     13|                  0|                 0|                0|                          8|              0|                       0.0|               0.0|0.7142857142857143|         0.0|             0|               0|          0|                   3|              4|                10|\n",
            "|2019-01-15|      63| 57|     Category 04|                0|                     13|                  0|                 0|                0|                          8|              0|                       0.0|               0.0|0.6666666666666666|         0.0|             0|               0|          0|                   3|              4|                10|\n",
            "|2019-01-16|      63| 57|     Category 04|                0|                     14|                  0|                 0|               -1|                          9|              0|                       0.0|               0.0|             0.625|         0.0|             0|               0|          0|                   3|              4|                10|\n",
            "|2019-01-17|      63| 57|     Category 04|                0|                     14|                  0|                 0|                0|                          9|              0|                       0.0|               0.0|0.5882352941176471|         0.0|             0|               0|          0|                   3|              4|                10|\n",
            "|2019-01-18|      63| 57|     Category 04|                0|                     14|                  0|                 0|                0|                          9|              0|                       0.0|               0.0|0.5555555555555556|         0.0|             0|               0|          0|                   3|              4|                10|\n",
            "|2019-01-19|      63| 57|     Category 04|                0|                     14|                  0|                 0|                0|                          9|              0|                       0.0|               0.0|0.5263157894736842|         0.0|             0|               0|          0|                   3|              4|                10|\n",
            "|2019-01-20|      63| 57|     Category 04|                2|                      6|                  0|                 0|                6|                          1|              0|                       0.0|               0.0|               0.6|         0.0|             8|               0|          0|                   3|              4|                10|\n",
            "+----------+--------+---+----------------+-----------------+-----------------------+-------------------+------------------+-----------------+---------------------------+---------------+--------------------------+------------------+------------------+------------+--------------+----------------+-----------+--------------------+---------------+------------------+\n",
            "only showing top 20 rows\n",
            "\n"
          ]
        }
      ]
    },
    {
      "cell_type": "code",
      "source": [
        "display_inventory_safety_stock = (\n",
        "  inventory_with_metrics\n",
        "    .join(lead_time, on=['store_id','sku'], how='leftouter')\n",
        "\n",
        "    # safety stock for sales velocity is avg daily sales units * min_lead_time\n",
        "    .withColumn('ss_sales_velocity', f.expr('daily_sales_units * min_lead_time'))\n",
        "\n",
        "    # use the lower of the min_expected_stock at replenishment or sales_velocity-derived stock requirement as safety stock\n",
        "    .withColumn('safety_stock', f.expr('CASE WHEN min_expected_stock < ss_sales_velocity THEN min_expected_stock ELSE ss_sales_velocity END'))\n",
        "    .withColumn('safety_stock', f.expr('CASE WHEN replenishment_flag != 1 THEN 0 ELSE safety_stock END'))\n",
        "    .withColumn('safety_stock', f.expr('COALESCE(safety_stock,0)'))\n",
        "    .withColumn('safety_stock', f.expr('CASE WHEN safety_stock=0 THEN min_expected_stock ELSE safety_stock END'))\n",
        "\n",
        "    .select(\n",
        "      'date',\n",
        "      'store_id',\n",
        "      'sku',\n",
        "      'total_sales_units',\n",
        "      'on_hand_inventory_units',\n",
        "      'estimated_on_hand_inventory',\n",
        "      'prior_inventory',\n",
        "      'rolling_min_expected_stock',\n",
        "      'min_expected_stock',\n",
        "      'safety_stock',\n",
        "      'min_lead_time'\n",
        "      )\n",
        "  )\n",
        "display_inventory_safety_stock.show()"
      ],
      "metadata": {
        "colab": {
          "base_uri": "https://localhost:8080/"
        },
        "id": "wGd9TLgB7Bo7",
        "outputId": "186b92ab-d98b-4c7b-e11c-890501568696"
      },
      "execution_count": 44,
      "outputs": [
        {
          "output_type": "stream",
          "name": "stdout",
          "text": [
            "+----------+--------+---+-----------------+-----------------------+---------------------------+---------------+--------------------------+------------------+------------+-------------+\n",
            "|      date|store_id|sku|total_sales_units|on_hand_inventory_units|estimated_on_hand_inventory|prior_inventory|rolling_min_expected_stock|min_expected_stock|safety_stock|min_lead_time|\n",
            "+----------+--------+---+-----------------+-----------------------+---------------------------+---------------+--------------------------+------------------+------------+-------------+\n",
            "|2019-01-01|      63| 57|                0|                   NULL|                          0|              0|                       0.0|               0.0|         0.0|            3|\n",
            "|2019-01-02|      63| 57|                0|                      8|                          0|              0|                       0.0|               0.0|         0.0|            3|\n",
            "|2019-01-03|      63| 57|                0|                      8|                          0|              0|                       0.0|               0.0|         0.0|            3|\n",
            "|2019-01-04|      63| 57|                0|                      7|                          0|              0|                       0.0|               0.0|         0.0|            3|\n",
            "|2019-01-05|      63| 57|                3|                      5|                          0|              0|                       0.0|               0.0|         0.0|            3|\n",
            "|2019-01-06|      63| 57|                2|                     11|                          6|              0|                       0.0|               0.0|         0.0|            3|\n",
            "|2019-01-07|      63| 57|                0|                     11|                          6|              0|                       0.0|               0.0|         0.0|            3|\n",
            "|2019-01-08|      63| 57|                0|                     11|                          6|              0|                       0.0|               0.0|         0.0|            3|\n",
            "|2019-01-09|      63| 57|                3|                      7|                          2|              0|                       0.0|               0.0|         0.0|            3|\n",
            "|2019-01-10|      63| 57|                2|                      5|                          0|              0|                       0.0|               0.0|         0.0|            3|\n",
            "|2019-01-11|      63| 57|                0|                      5|                          0|              0|                       0.0|               0.0|         0.0|            3|\n",
            "|2019-01-12|      63| 57|                0|                      5|                          0|              0|                       0.0|               0.0|         0.0|            3|\n",
            "|2019-01-13|      63| 57|                0|                     13|                          8|              0|                       0.0|               0.0|         0.0|            3|\n",
            "|2019-01-14|      63| 57|                0|                     13|                          8|              0|                       0.0|               0.0|         0.0|            3|\n",
            "|2019-01-15|      63| 57|                0|                     13|                          8|              0|                       0.0|               0.0|         0.0|            3|\n",
            "|2019-01-16|      63| 57|                0|                     14|                          9|              0|                       0.0|               0.0|         0.0|            3|\n",
            "|2019-01-17|      63| 57|                0|                     14|                          9|              0|                       0.0|               0.0|         0.0|            3|\n",
            "|2019-01-18|      63| 57|                0|                     14|                          9|              0|                       0.0|               0.0|         0.0|            3|\n",
            "|2019-01-19|      63| 57|                0|                     14|                          9|              0|                       0.0|               0.0|         0.0|            3|\n",
            "|2019-01-20|      63| 57|                2|                      6|                          1|              0|                       0.0|               0.0|         0.0|            3|\n",
            "+----------+--------+---+-----------------+-----------------------+---------------------------+---------------+--------------------------+------------------+------------+-------------+\n",
            "only showing top 20 rows\n",
            "\n"
          ]
        }
      ]
    },
    {
      "cell_type": "code",
      "source": [
        "filtered_inventory = inventory_safety_stock.filter(inventory_safety_stock.min_expected_stock < inventory_safety_stock.safety_stock)\n",
        "filtered_inventory.show()"
      ],
      "metadata": {
        "colab": {
          "base_uri": "https://localhost:8080/"
        },
        "id": "S_LANKZC8FuB",
        "outputId": "d30ccd64-4ad2-4b90-8d03-86af0aba777b"
      },
      "execution_count": 45,
      "outputs": [
        {
          "output_type": "stream",
          "name": "stdout",
          "text": [
            "+----+--------+---+----------------+-----------------+-----------------------+-------------------+------------------+-----------------+---------------------------+---------------+--------------------------+------------------+-----------------+------------+--------------+----------------+-----------+--------------------+---------------+------------------+\n",
            "|date|store_id|sku|product_category|total_sales_units|on_hand_inventory_units|replenishment_units|replenishment_flag|phantom_inventory|estimated_on_hand_inventory|prior_inventory|rolling_min_expected_stock|min_expected_stock|daily_sales_units|safety_stock|units_on_order|units_in_transit|units_in_dc|lead_time_in_transit|lead_time_in_dc|lead_time_on_order|\n",
            "+----+--------+---+----------------+-----------------+-----------------------+-------------------+------------------+-----------------+---------------------------+---------------+--------------------------+------------------+-----------------+------------+--------------+----------------+-----------+--------------------+---------------+------------------+\n",
            "+----+--------+---+----------------+-----------------+-----------------------+-------------------+------------------+-----------------+---------------------------+---------------+--------------------------+------------------+-----------------+------------+--------------+----------------+-----------+--------------------+---------------+------------------+\n",
            "\n"
          ]
        }
      ]
    },
    {
      "cell_type": "markdown",
      "source": [
        "## Identify Insufficient Inventory On-Hand & In-Pipeline Events"
      ],
      "metadata": {
        "id": "TmBylXJvPK96"
      }
    },
    {
      "cell_type": "code",
      "source": [
        "inventory_safety_stock_alert = (\n",
        "  inventory_safety_stock\n",
        "\n",
        "  # alert 1 - estimated on-hand inventory is less than safety stock\n",
        "  .withColumn('on_hand_less_than_safety_stock', f.expr('CASE WHEN estimated_on_hand_inventory <= safety_stock THEN 1 ELSE 0 END'))\n",
        "\n",
        "  # alert 2 - inventory in pipeline is not sufficient to reach the safety stock levels\n",
        "  .withColumn('insufficient_inventory_pipeline_units', f.expr('''\n",
        "    CASE\n",
        "      WHEN  (on_hand_less_than_safety_stock = 1) AND\n",
        "            (units_on_order + units_in_transit + units_in_dc != 0) AND\n",
        "            ((units_on_order + units_in_transit + units_in_dc) < (safety_stock - estimated_on_hand_inventory))\n",
        "         THEN 1\n",
        "      ELSE 0\n",
        "      END'''))\n",
        "  )\n",
        "inventory_safety_stock_alert.show()"
      ],
      "metadata": {
        "colab": {
          "base_uri": "https://localhost:8080/"
        },
        "id": "XFD3g3yJNRWz",
        "outputId": "4c4e55fe-1013-4e40-f2e5-fd7098e773b2"
      },
      "execution_count": 54,
      "outputs": [
        {
          "output_type": "stream",
          "name": "stdout",
          "text": [
            "+----------+--------+---+----------------+-----------------+-----------------------+-------------------+------------------+-----------------+---------------------------+---------------+--------------------------+------------------+------------------+------------+--------------+----------------+-----------+--------------------+---------------+------------------+------------------------------+-------------------------------------+\n",
            "|      date|store_id|sku|product_category|total_sales_units|on_hand_inventory_units|replenishment_units|replenishment_flag|phantom_inventory|estimated_on_hand_inventory|prior_inventory|rolling_min_expected_stock|min_expected_stock| daily_sales_units|safety_stock|units_on_order|units_in_transit|units_in_dc|lead_time_in_transit|lead_time_in_dc|lead_time_on_order|on_hand_less_than_safety_stock|insufficient_inventory_pipeline_units|\n",
            "+----------+--------+---+----------------+-----------------+-----------------------+-------------------+------------------+-----------------+---------------------------+---------------+--------------------------+------------------+------------------+------------+--------------+----------------+-----------+--------------------+---------------+------------------+------------------------------+-------------------------------------+\n",
            "|2019-01-01|      63| 57|     Category 04|                0|                   NULL|                  0|                 0|                0|                          0|              0|                       0.0|               0.0|               0.0|         0.0|             0|               0|          0|                   3|              4|                10|                             1|                                    0|\n",
            "|2019-01-02|      63| 57|     Category 04|                0|                      8|                  0|                 0|                0|                          0|              0|                       0.0|               0.0|               0.0|         0.0|             8|               0|          0|                   3|              4|                10|                             1|                                    0|\n",
            "|2019-01-03|      63| 57|     Category 04|                0|                      8|                  0|                 0|                0|                          0|              0|                       0.0|               0.0|               0.0|         0.0|             0|               0|          0|                   3|              4|                10|                             1|                                    0|\n",
            "|2019-01-04|      63| 57|     Category 04|                0|                      7|                  0|                 0|                1|                          0|              0|                       0.0|               0.0|               0.0|         0.0|             0|               0|          8|                   3|              4|                10|                             1|                                    0|\n",
            "|2019-01-05|      63| 57|     Category 04|                3|                      5|                  8|                 1|                7|                          0|              0|                       0.0|               0.0|               0.6|         0.0|             0|               8|          0|                   3|              4|                10|                             1|                                    0|\n",
            "|2019-01-06|      63| 57|     Category 04|                2|                     11|                  0|                 0|               -8|                          6|              0|                       0.0|               0.0|0.8333333333333334|         0.0|             0|               0|          0|                   3|              4|                10|                             0|                                    0|\n",
            "|2019-01-07|      63| 57|     Category 04|                0|                     11|                  0|                 0|                0|                          6|              0|                       0.0|               0.0|0.7142857142857143|         0.0|             0|               0|          0|                   3|              4|                10|                             0|                                    0|\n",
            "|2019-01-08|      63| 57|     Category 04|                0|                     11|                  0|                 0|                0|                          6|              0|                       0.0|               0.0|             0.625|         0.0|             0|               0|          0|                   3|              4|                10|                             0|                                    0|\n",
            "|2019-01-09|      63| 57|     Category 04|                3|                      7|                  0|                 0|                1|                          2|              0|                       0.0|               0.0|0.8888888888888888|         0.0|             8|               0|          0|                   3|              4|                10|                             0|                                    0|\n",
            "|2019-01-10|      63| 57|     Category 04|                2|                      5|                  0|                 0|                0|                          0|              0|                       0.0|               0.0|               1.0|         0.0|             8|               0|          0|                   3|              4|                10|                             1|                                    0|\n",
            "|2019-01-11|      63| 57|     Category 04|                0|                      5|                  0|                 0|                0|                          0|              0|                       0.0|               0.0|0.9090909090909091|         0.0|             0|               0|          0|                   3|              4|                10|                             1|                                    0|\n",
            "|2019-01-12|      63| 57|     Category 04|                0|                      5|                  0|                 0|                0|                          0|              0|                       0.0|               0.0|0.8333333333333334|         0.0|             0|               0|          0|                   3|              4|                10|                             1|                                    0|\n",
            "|2019-01-13|      63| 57|     Category 04|                0|                     13|                  0|                 0|               -8|                          8|              0|                       0.0|               0.0|0.7692307692307693|         0.0|             0|               0|          8|                   3|              4|                10|                             0|                                    0|\n",
            "|2019-01-14|      63| 57|     Category 04|                0|                     13|                  0|                 0|                0|                          8|              0|                       0.0|               0.0|0.7142857142857143|         0.0|             0|               0|          0|                   3|              4|                10|                             0|                                    0|\n",
            "|2019-01-15|      63| 57|     Category 04|                0|                     13|                  0|                 0|                0|                          8|              0|                       0.0|               0.0|0.6666666666666666|         0.0|             0|               0|          0|                   3|              4|                10|                             0|                                    0|\n",
            "|2019-01-16|      63| 57|     Category 04|                0|                     14|                  0|                 0|               -1|                          9|              0|                       0.0|               0.0|             0.625|         0.0|             0|               0|          0|                   3|              4|                10|                             0|                                    0|\n",
            "|2019-01-17|      63| 57|     Category 04|                0|                     14|                  0|                 0|                0|                          9|              0|                       0.0|               0.0|0.5882352941176471|         0.0|             0|               0|          0|                   3|              4|                10|                             0|                                    0|\n",
            "|2019-01-18|      63| 57|     Category 04|                0|                     14|                  0|                 0|                0|                          9|              0|                       0.0|               0.0|0.5555555555555556|         0.0|             0|               0|          0|                   3|              4|                10|                             0|                                    0|\n",
            "|2019-01-19|      63| 57|     Category 04|                0|                     14|                  0|                 0|                0|                          9|              0|                       0.0|               0.0|0.5263157894736842|         0.0|             0|               0|          0|                   3|              4|                10|                             0|                                    0|\n",
            "|2019-01-20|      63| 57|     Category 04|                2|                      6|                  0|                 0|                6|                          1|              0|                       0.0|               0.0|               0.6|         0.0|             8|               0|          0|                   3|              4|                10|                             0|                                    0|\n",
            "+----------+--------+---+----------------+-----------------+-----------------------+-------------------+------------------+-----------------+---------------------------+---------------+--------------------------+------------------+------------------+------------+--------------+----------------+-----------+--------------------+---------------+------------------+------------------------------+-------------------------------------+\n",
            "only showing top 20 rows\n",
            "\n"
          ]
        }
      ]
    },
    {
      "cell_type": "markdown",
      "source": [
        "## Identify Insufficient Lead Time Events"
      ],
      "metadata": {
        "id": "f_hxmM1jPNJn"
      }
    },
    {
      "cell_type": "code",
      "source": [
        "# calculate lead times associated with inventory records\n",
        "inventory_safety_stock_with_lead_times = (\n",
        "\n",
        "  inventory_safety_stock_alert\n",
        "\n",
        "    # lead time values at store-sku level for various stages\n",
        "    .withColumn('lead_time_in_transit', f.expr('COALESCE(lead_time_in_transit,0)'))\n",
        "    .withColumn('lead_time_on_order', f.expr('COALESCE(lead_time_on_order,0)'))\n",
        "    .withColumn('lead_time_in_dc', f.expr('COALESCE(lead_time_in_dc,0)'))\n",
        "\n",
        "    # considering lead time only if estimated on-hand inventory and inventory in pipeline meet the safety stock levels\n",
        "    .withColumn('lead_time', f.expr('''\n",
        "       CASE\n",
        "         WHEN on_hand_less_than_safety_stock = 1 AND\n",
        "              (units_on_order + units_in_transit + units_in_dc != 0) AND\n",
        "              ((units_on_order + units_in_transit + units_in_dc) >= (safety_stock - estimated_on_hand_inventory))\n",
        "           THEN GREATEST(\n",
        "                 COALESCE(lead_time_in_transit,0),\n",
        "                 COALESCE(lead_time_on_order,0),\n",
        "                 COALESCE(lead_time_in_dc,0)\n",
        "                 )+1\n",
        "         ELSE null\n",
        "         END'''))\n",
        "  )\n",
        "\n",
        "# identify lead time problems\n",
        "lead_time_alerts = (\n",
        "\n",
        "  inventory_safety_stock_with_lead_times.alias('a')\n",
        "\n",
        "    # self join to get the previous lead time (most recent one) for the inventory pipeline\n",
        "    .join(\n",
        "      (inventory_safety_stock_with_lead_times\n",
        "          .filter(\n",
        "            f.expr('lead_time Is Not Null') # considering only non-null records\n",
        "             ).alias('b')\n",
        "        ),\n",
        "      on=f.expr('a.store_id=b.store_id AND a.sku=b.sku AND a.date > b.date'),\n",
        "      how='leftouter'\n",
        "      )\n",
        "    .groupBy('a.store_id','a.sku','a.date')\n",
        "      .agg(\n",
        "          f.max('a.lead_time').alias('lead_time'),\n",
        "          f.max('b.date').alias('lead_date'), # day on which the lead time was assigned to the inventory pipeline\n",
        "          f.max('b.lead_time').alias('prev_lead_time') # lead time assigned to the inventory pipeline\n",
        "        )\n",
        "\n",
        "    # flag is raised if difference in current date and lead date (from above) is greater than the lead time assigned (prev_lead_time)\n",
        "    .withColumn('date_diff', f.expr('DATEDIFF(date, lead_date)'))\n",
        "    .withColumn('insufficient_lead_time', f.expr('''\n",
        "      CASE\n",
        "        WHEN lead_time IS NULL AND (prev_lead_time - date_diff) <= 0 THEN 1\n",
        "        ELSE 0\n",
        "        END\n",
        "      '''))\n",
        "    .select(\n",
        "      'date',\n",
        "      'store_id',\n",
        "      'sku',\n",
        "      'insufficient_lead_time'\n",
        "      )\n",
        "  .join(\n",
        "    inventory_safety_stock_alert,\n",
        "    on=['store_id','sku','date']\n",
        "    )\n",
        "  )\n",
        "\n",
        "\n",
        "lead_time_alerts.show()"
      ],
      "metadata": {
        "id": "6oDTkBz2NVku",
        "colab": {
          "base_uri": "https://localhost:8080/"
        },
        "outputId": "64292390-a3a7-4602-f2d0-0598e85fcd53"
      },
      "execution_count": 59,
      "outputs": [
        {
          "output_type": "stream",
          "name": "stdout",
          "text": [
            "+--------+---+----------+----------------------+----------------+-----------------+-----------------------+-------------------+------------------+-----------------+---------------------------+---------------+--------------------------+------------------+-------------------+------------------+--------------+----------------+-----------+--------------------+---------------+------------------+------------------------------+-------------------------------------+--------------------------+\n",
            "|store_id|sku|      date|insufficient_lead_time|product_category|total_sales_units|on_hand_inventory_units|replenishment_units|replenishment_flag|phantom_inventory|estimated_on_hand_inventory|prior_inventory|rolling_min_expected_stock|min_expected_stock|  daily_sales_units|      safety_stock|units_on_order|units_in_transit|units_in_dc|lead_time_in_transit|lead_time_in_dc|lead_time_on_order|on_hand_less_than_safety_stock|insufficient_inventory_pipeline_units|reaches_zero_within_3_days|\n",
            "+--------+---+----------+----------------------+----------------+-----------------+-----------------------+-------------------+------------------+-----------------+---------------------------+---------------+--------------------------+------------------+-------------------+------------------+--------------+----------------+-----------+--------------------+---------------+------------------+------------------------------+-------------------------------------+--------------------------+\n",
            "|      63| 57|2019-05-11|                     1|     Category 04|                0|                      1|                  0|                 0|                0|                          0|              0|                       0.0|              5.25| 0.8681318681318682|              5.25|             0|               0|          0|                   3|              4|                10|                             1|                                    0|                         0|\n",
            "|      63| 57|2019-09-12|                     0|     Category 04|                0|                     23|                  0|                 0|                0|                         22|              0|                       0.0|            15.125| 0.7032967032967034|            15.125|             0|               0|          0|                   3|              4|                10|                             0|                                    0|                         0|\n",
            "|      63| 57|2020-02-24|                     1|     Category 04|                3|                     23|                  0|                 0|               -1|                         23|              0|                       0.0|             15.75| 0.9560439560439561|             15.75|             0|               0|          0|                   3|              4|                10|                             0|                                    0|                         0|\n",
            "|      63| 57|2020-10-25|                     1|     Category 04|                2|                     35|                  0|                 0|              -37|                         35|              0|                       0.0| 8.333333333333334| 0.4945054945054945| 8.333333333333334|            24|               0|          0|                   3|              4|                10|                             0|                                    0|                         0|\n",
            "|      98| 64|2019-04-20|                     1|     Category 01|                8|                     21|                  0|                 0|              -18|                         17|              0|                       0.0| 7.666666666666667| 1.4945054945054945| 7.666666666666667|             0|               0|          0|                   2|              3|                 9|                             0|                                    0|                         0|\n",
            "|      98| 64|2020-07-16|                     1|     Category 01|                0|                      0|                  0|                 0|                0|                          0|              0|                       0.0|            10.375|                0.0|            10.375|             0|               0|          0|                   2|              3|                 9|                             1|                                    0|                         1|\n",
            "|      98| 64|2020-09-23|                     1|     Category 01|                0|                      0|                  0|                 0|                0|                          0|              0|                       0.0|            10.375|                0.0|            10.375|             0|               0|          0|                   2|              3|                 9|                             1|                                    0|                         1|\n",
            "|      98| 64|2020-12-05|                     0|     Category 01|                0|                     13|                  0|                 0|                0|                         13|              0|                       0.0|              18.5| 0.9120879120879121|              18.5|             0|               0|          0|                   2|              3|                 9|                             1|                                    0|                         0|\n",
            "|     164| 76|2019-04-06|                     1|     Category 05|                0|                      7|                  0|                 0|                0|                          6|              0|                       0.0|0.7142857142857143|0.23076923076923078|0.7142857142857143|             0|               0|          0|                   3|              4|                10|                             0|                                    0|                         0|\n",
            "|     164| 76|2019-05-19|                     1|     Category 05|                0|                     10|                  0|                 0|                0|                         10|              0|                       0.0|1.5714285714285714| 0.3076923076923077|1.5714285714285714|             0|               0|          0|                   3|              4|                10|                             0|                                    0|                         0|\n",
            "|     164| 76|2020-03-25|                     1|     Category 05|                0|                      0|                  0|                 0|                0|                          0|              0|                       0.0| 3.111111111111111|                0.0| 3.111111111111111|             0|               0|          0|                   3|              4|                10|                             1|                                    0|                         1|\n",
            "|     164| 76|2020-09-13|                     1|     Category 05|                0|                      0|                  0|                 0|                0|                          0|              0|                       0.0| 3.111111111111111|                0.0| 3.111111111111111|             0|               0|          0|                   3|              4|                10|                             1|                                    0|                         1|\n",
            "|     164| 76|2020-11-21|                     1|     Category 05|                0|                      0|                  0|                 0|                0|                          0|              0|                       0.0| 3.111111111111111|                0.0| 3.111111111111111|             0|               0|          0|                   3|              4|                10|                             1|                                    0|                         1|\n",
            "|     171| 64|2019-08-24|                     1|     Category 01|                0|                    130|                  0|                 0|                0|                        130|              0|                       0.0|             138.5| 0.6923076923076923|             138.5|             0|               0|          0|                   2|              3|                 7|                             1|                                    0|                         0|\n",
            "|     171| 64|2020-01-08|                     1|     Category 01|                0|                     22|                  0|                 0|                0|                         22|              0|                       0.0|              12.4| 1.2197802197802199|              12.4|             0|               0|          0|                   2|              3|                 7|                             0|                                    0|                         0|\n",
            "|     178| 64|2019-10-15|                     1|     Category 01|                0|                      3|                  0|                 0|                0|                          0|              0|                       0.0|126.33333333333333|  2.681318681318681|126.33333333333333|             0|               0|          0|                   1|              2|                 6|                             1|                                    0|                         0|\n",
            "|     178| 64|2019-12-26|                     1|     Category 01|                5|                     18|                  0|                 0|                6|                         18|              0|                       0.0|              10.5|   3.10989010989011|              10.5|            96|               0|          0|                   1|              2|                 6|                             0|                                    0|                         0|\n",
            "|     178| 64|2021-03-29|                     1|     Category 01|                6|                     49|                  0|                 0|               -1|                         49|              0|                       0.0|30.833333333333332| 2.9450549450549453|30.833333333333332|            96|               0|          0|                   1|              2|                 6|                             0|                                    0|                         0|\n",
            "|     206| 64|2019-03-05|                     1|     Category 01|                0|                    126|                  0|                 0|                0|                        124|              0|                       0.0|             73.25|            7.21875|             73.25|             0|               0|          0|                   3|              4|                 8|                             0|                                    0|                         0|\n",
            "|     206| 64|2019-03-20|                     1|     Category 01|               25|                    116|                 24|                 1|               21|                        114|            136|                    89.625|            89.625|  7.974683544303797|23.924050632911392|             0|               0|         48|                   3|              4|                 8|                             0|                                    0|                         0|\n",
            "+--------+---+----------+----------------------+----------------+-----------------+-----------------------+-------------------+------------------+-----------------+---------------------------+---------------+--------------------------+------------------+-------------------+------------------+--------------+----------------+-----------+--------------------+---------------+------------------+------------------------------+-------------------------------------+--------------------------+\n",
            "only showing top 20 rows\n",
            "\n"
          ]
        }
      ]
    },
    {
      "cell_type": "markdown",
      "source": [
        "##Consolidated Events"
      ],
      "metadata": {
        "id": "SVJpN7ovPPCL"
      }
    },
    {
      "cell_type": "code",
      "source": [
        "consolidated_oos_alerts = (\n",
        "  lead_time_alerts\n",
        "    .withColumn('alert_indicator', f.expr('''\n",
        "      CASE\n",
        "        WHEN on_hand_less_than_safety_stock = 1 AND insufficient_inventory_pipeline_units = 1 THEN 1\n",
        "        WHEN on_hand_less_than_safety_stock = 1 AND insufficient_inventory_pipeline_units != 1 AND insufficient_lead_time = 1 THEN 1\n",
        "        ELSE 0\n",
        "        END'''))\n",
        "    .select(\n",
        "      'date',\n",
        "      'store_id',\n",
        "      'sku',\n",
        "      'product_category',\n",
        "      'total_sales_units',\n",
        "      'daily_sales_units',\n",
        "      'alert_indicator',\n",
        "      'on_hand_inventory_units'\n",
        "      )\n",
        "  )\n",
        "consolidated_oos_alerts.show()"
      ],
      "metadata": {
        "id": "gZONasQTNZXp",
        "colab": {
          "base_uri": "https://localhost:8080/"
        },
        "outputId": "9f8821a7-0ac9-4045-c8a5-6fbbf71f7434"
      },
      "execution_count": 61,
      "outputs": [
        {
          "output_type": "stream",
          "name": "stdout",
          "text": [
            "+----------+--------+---+----------------+-----------------+-------------------+---------------+-----------------------+\n",
            "|      date|store_id|sku|product_category|total_sales_units|  daily_sales_units|alert_indicator|on_hand_inventory_units|\n",
            "+----------+--------+---+----------------+-----------------+-------------------+---------------+-----------------------+\n",
            "|2019-05-11|      63| 57|     Category 04|                0| 0.8681318681318682|              1|                      1|\n",
            "|2019-09-12|      63| 57|     Category 04|                0| 0.7032967032967034|              0|                     23|\n",
            "|2020-02-24|      63| 57|     Category 04|                3| 0.9560439560439561|              0|                     23|\n",
            "|2020-10-25|      63| 57|     Category 04|                2| 0.4945054945054945|              0|                     35|\n",
            "|2019-04-20|      98| 64|     Category 01|                8| 1.4945054945054945|              0|                     21|\n",
            "|2020-07-16|      98| 64|     Category 01|                0|                0.0|              1|                      0|\n",
            "|2020-09-23|      98| 64|     Category 01|                0|                0.0|              1|                      0|\n",
            "|2020-12-05|      98| 64|     Category 01|                0| 0.9120879120879121|              0|                     13|\n",
            "|2019-04-06|     164| 76|     Category 05|                0|0.23076923076923078|              0|                      7|\n",
            "|2019-05-19|     164| 76|     Category 05|                0| 0.3076923076923077|              0|                     10|\n",
            "|2020-03-25|     164| 76|     Category 05|                0|                0.0|              1|                      0|\n",
            "|2020-09-13|     164| 76|     Category 05|                0|                0.0|              1|                      0|\n",
            "|2020-11-21|     164| 76|     Category 05|                0|                0.0|              1|                      0|\n",
            "|2019-08-24|     171| 64|     Category 01|                0| 0.6923076923076923|              1|                    130|\n",
            "|2020-01-08|     171| 64|     Category 01|                0| 1.2197802197802199|              0|                     22|\n",
            "|2019-10-15|     178| 64|     Category 01|                0|  2.681318681318681|              1|                      3|\n",
            "|2019-12-26|     178| 64|     Category 01|                5|   3.10989010989011|              0|                     18|\n",
            "|2021-03-29|     178| 64|     Category 01|                6| 2.9450549450549453|              0|                     49|\n",
            "|2019-03-05|     206| 64|     Category 01|                0|            7.21875|              0|                    126|\n",
            "|2019-03-20|     206| 64|     Category 01|               25|  7.974683544303797|              0|                    116|\n",
            "+----------+--------+---+----------------+-----------------+-------------------+---------------+-----------------------+\n",
            "only showing top 20 rows\n",
            "\n"
          ]
        }
      ]
    },
    {
      "cell_type": "code",
      "source": [
        "from pyspark.sql.window import Window\n",
        "\n",
        "# Create a window specification to look back 3 days\n",
        "window_spec = Window.partitionBy(\"store_id\", \"sku\").orderBy(\"date\").rowsBetween(-3, -1)\n",
        "\n",
        "# Create a new column indicating if alert_indicator was 1 in the past 3 days\n",
        "consolidated_oos_alerts = consolidated_oos_alerts.withColumn(\n",
        "    \"alert_in_past_3_days\",\n",
        "    f.when(f.max(\"alert_indicator\").over(window_spec) == 1, 1).otherwise(0),\n",
        ")\n",
        "\n",
        "# Filter for cases where total_sales_units = 0 and alert_in_past_3_days = 1\n",
        "filtered_alerts = consolidated_oos_alerts.filter(\n",
        "    (consolidated_oos_alerts.total_sales_units == 0)\n",
        "    & (consolidated_oos_alerts.alert_in_past_3_days == 1)\n",
        ")\n",
        "\n",
        "# Count the number of instances\n",
        "count = filtered_alerts.count()\n",
        "print(\n",
        "    \"The number of times total_sales_units reached 0 when alert_indicator was 1 in the past 3 days is:\",\n",
        "    count,\n",
        ")"
      ],
      "metadata": {
        "colab": {
          "base_uri": "https://localhost:8080/"
        },
        "id": "r2oiLzb1OLPx",
        "outputId": "26b51ea8-793b-4a1b-c4fe-c4c5e50f8d75"
      },
      "execution_count": 62,
      "outputs": [
        {
          "output_type": "stream",
          "name": "stdout",
          "text": [
            "The number of times total_sales_units reached 0 when alert_indicator was 1 in the past 3 days is: 25044\n"
          ]
        }
      ]
    },
    {
      "cell_type": "markdown",
      "source": [
        "# Identify Zero Sales Issues\n",
        "Since not every product sells everyday it would be wise to verify a product is still in inventory if it is in inventory for a relatively long time"
      ],
      "metadata": {
        "id": "WUhEtRI6Q0iF"
      }
    },
    {
      "cell_type": "markdown",
      "source": [
        "## Calculate Ratio of Zero Sales Days to Total Sales Days by Store-SKU"
      ],
      "metadata": {
        "id": "IMR_YcrkRR4W"
      }
    },
    {
      "cell_type": "code",
      "source": [
        "# calculate ratio of total days of zero sales and total days on shelf across observed period\n",
        "zero_sales_totals = (\n",
        "  inventory_data\n",
        "    .withColumn('total_zero_sales_days', f.expr('CASE WHEN total_sales_units == 0 THEN 1 ELSE 0 END'))\n",
        "    .withColumn('total_days', f.expr('1'))\n",
        "    .groupBy(['store_id', 'sku'])\n",
        "      .agg(\n",
        "        f.sum('total_days').alias('total_days'),\n",
        "        f.sum('total_zero_sales_days').alias('total_zero_sales_days')\n",
        "        )\n",
        "    .withColumn('zero_sales_day_probability', f.expr('total_zero_sales_days / total_days'))\n",
        "    )\n",
        "\n",
        " #zero_sales_total.show()"
      ],
      "metadata": {
        "id": "T9-cotinRLvW"
      },
      "execution_count": 32,
      "outputs": []
    },
    {
      "cell_type": "markdown",
      "source": [
        "## Calculate Consecutive Zero Sales Days"
      ],
      "metadata": {
        "id": "Uh4BwOTwRWhW"
      }
    },
    {
      "cell_type": "code",
      "source": [
        "zero_sales_days = (\n",
        "\n",
        "  inventory_data\n",
        "\n",
        "    # flag the occurrence of first zero sales day in a series\n",
        "    .withColumn('sales_change_flag', f.expr('''\n",
        "        CASE\n",
        "          WHEN total_sales_units=0 AND LAG(total_sales_units,1) OVER(PARTITION BY store_id, sku ORDER BY date) != 0 THEN 1\n",
        "          ELSE 0\n",
        "          END'''))\n",
        "\n",
        "    # count number of zero sales day series to date (associates records with a given series)\n",
        "    .withColumn('zero_sales_flag_rank', f.expr('SUM(sales_change_flag) OVER(PARTITION BY store_id, sku ORDER BY date)'))\n",
        "\n",
        "    # flag all zero sales days\n",
        "    .withColumn('sales_change_flag_inv', f.expr('CASE WHEN total_sales_units = 0 THEN 1 ELSE 0 END'))\n",
        "\n",
        "    # count consecutive zero sales days (counter resets with a non-zero sales instance)\n",
        "    .withColumn('total_days_wo_sales', f.expr('SUM(sales_change_flag_inv) OVER(PARTITION BY store_id, sku, zero_sales_flag_rank ORDER BY date)'))\n",
        "    .withColumn('total_days_wo_sales', f.expr('CASE WHEN total_sales_units != 0 THEN 0 ELSE total_days_wo_sales END'))\n",
        "\n",
        "    .select(\n",
        "      'date',\n",
        "      'store_id',\n",
        "      'sku',\n",
        "      'total_sales_units',\n",
        "      'zero_sales_flag_rank',\n",
        "      'sales_change_flag_inv',\n",
        "      'total_days_wo_sales'\n",
        "      )\n",
        "  )\n",
        "\n",
        "#zero_sales_days.orderBy('store_id','sku','date').show()"
      ],
      "metadata": {
        "id": "QBRgEz4TRWDU"
      },
      "execution_count": 33,
      "outputs": []
    },
    {
      "cell_type": "markdown",
      "source": [
        "## Calculate Cumulative Probability of Zero Sales Event"
      ],
      "metadata": {
        "id": "dxQnhNiyRgin"
      }
    },
    {
      "cell_type": "code",
      "source": [
        "zero_sales_inventory = (\n",
        "  zero_sales_days\n",
        "    .join(zero_sales_totals.alias('prob'), on=['store_id', 'sku'], how = 'leftouter')\n",
        "    .withColumn('zero_sales_probability', f.expr('pow(zero_sales_day_probability, total_days_wo_sales)'))\n",
        "    .withColumn('no_sales_flag', f.expr('CASE WHEN zero_sales_probability < 0.05 THEN 1 ELSE 0 END'))\n",
        "  )\n",
        "\n",
        "zero_sales_inventory.orderBy('store_id','sku','date').show(20)"
      ],
      "metadata": {
        "colab": {
          "base_uri": "https://localhost:8080/"
        },
        "id": "icl_Ko8FRgLr",
        "outputId": "19ad5891-b193-4713-fe49-e18529200e66"
      },
      "execution_count": 34,
      "outputs": [
        {
          "output_type": "stream",
          "name": "stdout",
          "text": [
            "+--------+---+----------+-----------------+--------------------+---------------------+-------------------+----------+---------------------+--------------------------+----------------------+-------------+\n",
            "|store_id|sku|      date|total_sales_units|zero_sales_flag_rank|sales_change_flag_inv|total_days_wo_sales|total_days|total_zero_sales_days|zero_sales_day_probability|zero_sales_probability|no_sales_flag|\n",
            "+--------+---+----------+-----------------+--------------------+---------------------+-------------------+----------+---------------------+--------------------------+----------------------+-------------+\n",
            "|      63| 57|2019-01-02|                0|                   0|                    1|                  1|       415|                  215|        0.5180722891566265|    0.5180722891566265|            0|\n",
            "|      63| 57|2019-01-04|                0|                   0|                    1|                  2|       415|                  215|        0.5180722891566265|   0.26839889679198725|            0|\n",
            "|      63| 57|2019-01-05|                3|                   0|                    0|                  0|       415|                  215|        0.5180722891566265|                   1.0|            0|\n",
            "|      63| 57|2019-01-06|                2|                   0|                    0|                  0|       415|                  215|        0.5180722891566265|                   1.0|            0|\n",
            "|      63| 57|2019-01-09|                3|                   0|                    0|                  0|       415|                  215|        0.5180722891566265|                   1.0|            0|\n",
            "|      63| 57|2019-01-10|                2|                   0|                    0|                  0|       415|                  215|        0.5180722891566265|                   1.0|            0|\n",
            "|      63| 57|2019-01-13|                0|                   1|                    1|                  1|       415|                  215|        0.5180722891566265|    0.5180722891566265|            0|\n",
            "|      63| 57|2019-01-15|                0|                   1|                    1|                  2|       415|                  215|        0.5180722891566265|   0.26839889679198725|            0|\n",
            "|      63| 57|2019-01-16|                0|                   1|                    1|                  3|       415|                  215|        0.5180722891566265|   0.13905003086813797|            0|\n",
            "|      63| 57|2019-01-20|                2|                   1|                    0|                  0|       415|                  215|        0.5180722891566265|                   1.0|            0|\n",
            "|      63| 57|2019-01-24|                0|                   2|                    1|                  1|       415|                  215|        0.5180722891566265|    0.5180722891566265|            0|\n",
            "|      63| 57|2019-01-25|                3|                   2|                    0|                  0|       415|                  215|        0.5180722891566265|                   1.0|            0|\n",
            "|      63| 57|2019-01-30|                4|                   2|                    0|                  0|       415|                  215|        0.5180722891566265|                   1.0|            0|\n",
            "|      63| 57|2019-01-31|                0|                   3|                    1|                  1|       415|                  215|        0.5180722891566265|    0.5180722891566265|            0|\n",
            "|      63| 57|2019-02-01|                2|                   3|                    0|                  0|       415|                  215|        0.5180722891566265|                   1.0|            0|\n",
            "|      63| 57|2019-02-02|                0|                   4|                    1|                  1|       415|                  215|        0.5180722891566265|    0.5180722891566265|            0|\n",
            "|      63| 57|2019-02-03|                3|                   4|                    0|                  0|       415|                  215|        0.5180722891566265|                   1.0|            0|\n",
            "|      63| 57|2019-02-08|                0|                   5|                    1|                  1|       415|                  215|        0.5180722891566265|    0.5180722891566265|            0|\n",
            "|      63| 57|2019-02-09|                5|                   5|                    0|                  0|       415|                  215|        0.5180722891566265|                   1.0|            0|\n",
            "|      63| 57|2019-02-11|                0|                   6|                    1|                  1|       415|                  215|        0.5180722891566265|    0.5180722891566265|            0|\n",
            "+--------+---+----------+-----------------+--------------------+---------------------+-------------------+----------+---------------------+--------------------------+----------------------+-------------+\n",
            "only showing top 20 rows\n",
            "\n"
          ]
        }
      ]
    },
    {
      "cell_type": "markdown",
      "source": [
        "# Identify Alert Conditions"
      ],
      "metadata": {
        "id": "7d2CTmskRtFt"
      }
    },
    {
      "cell_type": "markdown",
      "source": [
        "## Combining all flags"
      ],
      "metadata": {
        "id": "WS8HKP8eRs74"
      }
    },
    {
      "cell_type": "code",
      "source": [
        "inventory_flagged = (\n",
        "  consolidated_oos_alerts.alias('oos') # OOS alert\n",
        "    .join(phantom_inventory.alias('pi'), on=['store_id','sku','date'], how='leftouter') # phantom inventory indicator\n",
        "    .join(zero_sales_inventory, on=['store_id','sku','date'], how='leftouter') # zero sales alert\n",
        "    .selectExpr(\n",
        "      'date',\n",
        "      'store_id',\n",
        "      'sku',\n",
        "      'product_category',\n",
        "      'oos.total_sales_units',\n",
        "      'oos.alert_indicator as oos_alert',\n",
        "      'oos.daily_sales_units',\n",
        "      'no_sales_flag as zero_sales_flag',\n",
        "      'phantom_inventory',\n",
        "      'phantom_inventory_ind'\n",
        "      )\n",
        "  )\n",
        "\n",
        "#inventory_flagged.show(20)"
      ],
      "metadata": {
        "id": "4naNAxpvRrXH"
      },
      "execution_count": 35,
      "outputs": []
    },
    {
      "cell_type": "markdown",
      "source": [
        "# Generate Forecast"
      ],
      "metadata": {
        "id": "zGQqAkbOVM6Q"
      }
    },
    {
      "cell_type": "code",
      "source": [
        "from statsmodels.tsa.holtwinters import SimpleExpSmoothing\n",
        "alpha_value = 0.8 # smoothing factor\n",
        "\n",
        "# function to generate a forecast for a store-sku\n",
        "def get_forecast(keys, inventory_pd: pd.DataFrame) -> pd.DataFrame:\n",
        "\n",
        "  # identify store and sku\n",
        "  store_id = keys[0]\n",
        "  sku = keys[1]\n",
        "\n",
        "  # identify date range for predictions\n",
        "  history_start = inventory_pd['date'].min()\n",
        "  history_end = inventory_pd['date'].max()\n",
        "\n",
        "  # organize data for model training\n",
        "  timeseries = (\n",
        "    inventory_pd\n",
        "      .set_index('date', drop=True, append=False) # move date to index\n",
        "      .sort_index() # sort on date-index\n",
        "    )['total_sales_units'] # just need this one field\n",
        "\n",
        "  # fit model to timeseries\n",
        "  model = SimpleExpSmoothing(timeseries, initialization_method='heuristic').fit(smoothing_level=alpha_value)\n",
        "\n",
        "  # predict sales across historical period\n",
        "  predictions = model.predict(start=history_start, end=history_end)\n",
        "\n",
        "  # convert timeseries to dataframe for return\n",
        "  predictions_pd = predictions.to_frame(name='predicted_sales_units').reset_index() # convert to df\n",
        "  predictions_pd.rename(columns={'index':'date'}, inplace=True) # rename 'index' column to 'date'\n",
        "  predictions_pd['store_id'] = store_id # assign store id\n",
        "  predictions_pd['sku'] = sku # assign sku\n",
        "\n",
        "  return predictions_pd[['date', 'store_id', 'sku', 'predicted_sales_units']]\n",
        "\n",
        "# structure of forecast function output\n",
        "forecast_schema = StructType([\n",
        "  StructField('date', DateType()),\n",
        "  StructField('store_id', IntegerType()),\n",
        "  StructField('sku', IntegerType()),\n",
        "  StructField('predicted_sales_units', FloatType())\n",
        "  ])\n",
        "\n",
        "inventory_forecast = (\n",
        "  inventory_flagged\n",
        "    .groupby(['store_id','sku'])\n",
        "      .applyInPandas(\n",
        "        get_forecast,\n",
        "        schema=forecast_schema\n",
        "        )\n",
        "    .withColumn('predicted_sales_units', f.expr('ROUND(predicted_sales_units,0)')) # round values to nearest integer\n",
        "    )\n",
        "\n",
        "#forecast.show(20)"
      ],
      "metadata": {
        "id": "_i7IyDu9VMhM"
      },
      "execution_count": 36,
      "outputs": []
    },
    {
      "cell_type": "code",
      "source": [
        "osa_flag_output = (\n",
        "\n",
        "  inventory_flagged.alias('inv')\n",
        "    .join(inventory_forecast.alias('for'), on=['store_id','sku','date'], how='leftouter')\n",
        "    .selectExpr(\n",
        "      'inv.*',\n",
        "      'for.predicted_sales_units'\n",
        "      )\n",
        "\n",
        "    # calculating difference between forecasted and actual sales units\n",
        "    .withColumn('units_difference', f.expr('predicted_sales_units - total_sales_units'))\n",
        "    .withColumn('units_difference', f.expr('COALESCE(units_difference, 0)'))\n",
        "\n",
        "    # check whether deviation has been increasing over past 4 days\n",
        "    .withColumn('osa_alert_inc_deviation', f.expr('''\n",
        "      CASE\n",
        "        WHEN units_difference > LAG(units_difference, 1) OVER(PARTITION BY store_id, sku ORDER BY date) AND\n",
        "             LAG(units_difference, 1) OVER(PARTITION BY store_id, sku ORDER BY date) > LAG(units_difference, 2) OVER(PARTITION BY store_id, sku ORDER BY date) AND\n",
        "             LAG(units_difference, 2) OVER(PARTITION BY store_id, sku ORDER BY date) > LAG(units_difference, 3) OVER(PARTITION BY store_id, sku ORDER BY date)\n",
        "             THEN 1\n",
        "        ELSE 0\n",
        "        END'''))\n",
        "    .withColumn('osa_alert_inc_deviation', f.expr('COALESCE(osa_alert_inc_deviation, 0)'))\n",
        "\n",
        "    # rolling 4 day average of sales units\n",
        "    .withColumn('sales_4day_avg', f.expr('AVG(total_sales_units) OVER(PARTITION BY store_id, sku ORDER BY date ROWS BETWEEN 3 PRECEDING AND CURRENT ROW)'))\n",
        "\n",
        "    # rolling 4 day average of forecasted units\n",
        "    .withColumn('predictions_4day_avg', f.expr('AVG(predicted_sales_units) OVER(PARTITION BY store_id, sku ORDER BY date ROWS BETWEEN 3 PRECEDING AND CURRENT ROW)'))\n",
        "\n",
        "    # calculating deviation in rolling average of sales and forecast units\n",
        "    .withColumn('deviation', f.expr('(predictions_4day_avg - sales_4day_avg) / (predictions_4day_avg+1)'))\n",
        "    .withColumn('deviation', f.expr('COALESCE(deviation, 0)'))\n",
        "\n",
        "    # Considering 20% deviation as the threshold for OSA flag\n",
        "    .withColumn('off_sales_alert', f.expr('''\n",
        "      CASE\n",
        "        WHEN deviation > 0.20  AND osa_alert_inc_deviation = 1 THEN 1\n",
        "        ELSE 0\n",
        "        END'''))\n",
        "\n",
        "    .select('date',\n",
        "            'store_id',\n",
        "            'sku',\n",
        "            'predicted_sales_units',\n",
        "            'off_sales_alert',\n",
        "            'oos_alert',\n",
        "            'zero_sales_flag',\n",
        "            'phantom_inventory',\n",
        "            'phantom_inventory_ind')\n",
        "    )\n",
        "\n",
        "osa_flag_output.show(20)"
      ],
      "metadata": {
        "colab": {
          "base_uri": "https://localhost:8080/"
        },
        "id": "rD0XZUvUVieJ",
        "outputId": "810873ad-9a31-41c3-b733-3cd25cec62ab"
      },
      "execution_count": 37,
      "outputs": [
        {
          "output_type": "stream",
          "name": "stdout",
          "text": [
            "+----------+--------+---+---------------------+---------------+---------+---------------+-----------------+---------------------+\n",
            "|      date|store_id|sku|predicted_sales_units|off_sales_alert|oos_alert|zero_sales_flag|phantom_inventory|phantom_inventory_ind|\n",
            "+----------+--------+---+---------------------+---------------+---------+---------------+-----------------+---------------------+\n",
            "|2019-01-01|      63| 57|                  0.0|              0|        0|           NULL|             NULL|                    0|\n",
            "|2019-01-02|      63| 57|                  0.0|              0|        0|              0|                0|                    0|\n",
            "|2019-01-03|      63| 57|                  0.0|              0|        0|           NULL|                0|                    0|\n",
            "|2019-01-04|      63| 57|                  0.0|              0|        0|              0|                1|                    1|\n",
            "|2019-01-05|      63| 57|                  0.0|              0|        0|              0|                7|                    1|\n",
            "|2019-01-06|      63| 57|                  2.0|              0|        0|              0|               -8|                    1|\n",
            "|2019-01-07|      63| 57|                  2.0|              0|        0|           NULL|                0|                    0|\n",
            "|2019-01-08|      63| 57|                  0.0|              0|        0|           NULL|                0|                    0|\n",
            "|2019-01-09|      63| 57|                  0.0|              0|        0|              0|                1|                    0|\n",
            "|2019-01-10|      63| 57|                  2.0|              0|        0|              0|                0|                    0|\n",
            "|2019-01-11|      63| 57|                  2.0|              0|        0|           NULL|                0|                    0|\n",
            "|2019-01-12|      63| 57|                  0.0|              0|        0|           NULL|                0|                    0|\n",
            "|2019-01-13|      63| 57|                  0.0|              0|        0|              0|               -8|                    1|\n",
            "|2019-01-14|      63| 57|                  0.0|              0|        0|           NULL|                0|                    0|\n",
            "|2019-01-15|      63| 57|                  0.0|              0|        0|              0|                0|                    0|\n",
            "|2019-01-16|      63| 57|                  0.0|              0|        0|              0|               -1|                    0|\n",
            "|2019-01-17|      63| 57|                  0.0|              0|        0|           NULL|                0|                    0|\n",
            "|2019-01-18|      63| 57|                  0.0|              0|        0|           NULL|                0|                    0|\n",
            "|2019-01-19|      63| 57|                  0.0|              0|        0|           NULL|                0|                    0|\n",
            "|2019-01-20|      63| 57|                  0.0|              0|        0|              0|                6|                    1|\n",
            "+----------+--------+---+---------------------+---------------+---------+---------------+-----------------+---------------------+\n",
            "only showing top 20 rows\n",
            "\n"
          ]
        }
      ]
    },
    {
      "cell_type": "code",
      "source": [
        "print(type(osa_flag_output))\n",
        "osa_flag_output.write.csv('osa.csv', header=True, mode='overwrite')"
      ],
      "metadata": {
        "colab": {
          "base_uri": "https://localhost:8080/"
        },
        "id": "BSSMJ-tPleaq",
        "outputId": "9046e416-ef3e-43c0-e9e3-f8518d59b6ea"
      },
      "execution_count": 38,
      "outputs": [
        {
          "output_type": "stream",
          "name": "stdout",
          "text": [
            "<class 'pyspark.sql.dataframe.DataFrame'>\n"
          ]
        }
      ]
    },
    {
      "cell_type": "markdown",
      "source": [
        "#Note\n",
        "\n",
        "Code adapted from [databricks project](https://notebooks.databricks.com/notebooks/RCG/On-Shelf_Availability/index.html#On-Shelf_Availability_2.html)"
      ],
      "metadata": {
        "id": "mHW6DTmSQB77"
      }
    }
  ]
}